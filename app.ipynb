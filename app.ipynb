{
 "cells": [
  {
   "cell_type": "code",
   "execution_count": null,
   "metadata": {},
   "outputs": [],
   "source": [
    "from qdrant_client import QdrantClient\n",
    "\n",
    "\n",
    "# Initialize the client\n",
    "client = QdrantClient(\":memory:\")\n"
   ]
  },
  {
   "cell_type": "code",
   "execution_count": null,
   "metadata": {},
   "outputs": [],
   "source": [
    "import pandas as pd\n",
    "\n",
    "# Read the CSV file\n",
    "df = pd.read_csv('styles.csv', on_bad_lines='skip')\n",
    "\n",
    "# Extract the 'productDisplayName' column into a list\n",
    "product_display_names = df['productDisplayName'].astype(str).tolist()\n"
   ]
  },
  {
   "cell_type": "code",
   "execution_count": null,
   "metadata": {},
   "outputs": [],
   "source": [
    "# Function to split list into batches of specified size\n",
    "def batch_list(lst, batch_size):\n",
    "    for i in range(0, len(lst), batch_size):\n",
    "        yield lst[i:i + batch_size]\n",
    "\n",
    "# Define batch size\n",
    "batch_size = 1000\n",
    "\n",
    "# Process the batches\n",
    "for idx, batch in enumerate(batch_list(product_display_names, batch_size)):\n",
    "    start_id = idx * batch_size + 1\n",
    "    end_id = start_id + len(batch) - 1\n",
    "    doc_ids = list(range(start_id, end_id + 1))\n",
    "    client.add(\n",
    "        collection_name=\"product_list\",\n",
    "        documents=batch,\n",
    "        ids=doc_ids,\n",
    "    )"
   ]
  },
  {
   "cell_type": "code",
   "execution_count": null,
   "metadata": {},
   "outputs": [],
   "source": [
    "groq_model = dspy.GROQ(model='llama3-8b-8192', api_key =\"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\")"
   ]
  },
  {
   "cell_type": "code",
   "execution_count": null,
   "metadata": {},
   "outputs": [],
   "source": [
    "from dspy.retrieve.qdrant_rm import QdrantRM\n",
    "import dspy\n",
    "from groq import Groq\n",
    "\n",
    "\n",
    "qdrant_retriever_model = QdrantRM(\"product_list\", client, k=3)\n",
    "\n",
    "\n",
    "ollama_model = dspy.OllamaLocal(model=\"llama3\",model_type='text',\n",
    "                                max_tokens=350,\n",
    "                                temperature=0.1,\n",
    "                                top_p=0.8, frequency_penalty=1.17, top_k=40)\n",
    "\n",
    "dspy.settings.configure(lm= ollama_model, rm=qdrant_retriever_model)"
   ]
  },
  {
   "cell_type": "code",
   "execution_count": null,
   "metadata": {},
   "outputs": [],
   "source": [
    "class Items(dspy.Signature):\n",
    "    \"\"\"\n",
    "    Extract clothing items and accessories given user preference\n",
    "    \"\"\"\n",
    "    prompt = dspy.InputField()\n",
    "    terms = dspy.OutputField(format=list)\n",
    "\n",
    "\n",
    "class FindItems(dspy.Module):\n",
    "\n",
    "    def __init__(self):\n",
    "        super().__init__()\n",
    "        self.item_extractor = dspy.Predict(Items)\n",
    "\n",
    "    def forward(self, question):\n",
    "        instruction = (\n",
    "            \"Return a list of clothing items and accesores to be worn by a user, given their preferences\"\n",
    "            f\"Preferences: {question}\"\n",
    "        )\n",
    "        prediction = self.item_extractor(\n",
    "            prompt=instruction\n",
    "        )\n",
    "        return prediction.terms"
   ]
  },
  {
   "cell_type": "code",
   "execution_count": 53,
   "metadata": {},
   "outputs": [],
   "source": [
    "module = FindItems()"
   ]
  },
  {
   "cell_type": "code",
   "execution_count": 54,
   "metadata": {},
   "outputs": [],
   "source": [
    "response = module(\"Tripy party with clowns and lot if music in New York\")"
   ]
  },
  {
   "cell_type": "code",
   "execution_count": 55,
   "metadata": {},
   "outputs": [
    {
     "name": "stdout",
     "output_type": "stream",
     "text": [
      "Here is the extracted list of clothing items and accessories:\n",
      "\n",
      "**Clothing Items**\n",
      "\n",
      "1. Sequined dress (to match the flashy atmosphere)\n",
      "2. Black jeans (for a stylish contrast to the colorful setting)\n",
      "\n",
      "**Accessories**\n",
      "\n",
      "1. Glittery earrings (to add some sparkle to their outfit)\n",
      "2. Clown-themed necklace or pin (as a nod to the party theme)\n",
      "3. Statement belt with flashing lights or sequins\n",
      "4. High-heeled shoes in bold colors like red, blue, or green\n",
      "\n",
      "These items are designed to help the user stand out at the trippy party while still looking stylish and put-together!\n"
     ]
    }
   ],
   "source": [
    "print(response)"
   ]
  },
  {
   "cell_type": "code",
   "execution_count": 138,
   "metadata": {},
   "outputs": [],
   "source": [
    "trainset_dict= {\n",
    "    \"desert_wear\": \"* Lightweight, breathable long-sleeve shirt\\n* Wide-brimmed hat\\n* Sunglasses with UV protection\\n* Cargo pants\\n* Lightweight scarf or shemagh\\n* Hiking boots with good ventilation\\n* Moisture-wicking socks\\n* Sunscreen\\n* Hydration pack or water bottle\\n* Lightweight jacket for cooler evenings\",\n",
    "    \"caribbean_party\": \"* Flowy sundress with tropical print\\n* Beach hat with colorful feathers\\n* Statement necklace with seashells and beads\\n* Flip flops in bright colors\\n* Sunglasses with brightly colored frames\\n* Lightweight, short-sleeve shirt with floral patterns\\n* Comfortable shorts\\n* Colorful bangles or bracelets\\n* Straw tote bag\\n* Lightweight scarf or wrap\",\n",
    "    \"award_function\": \"* Elegant evening gown or tuxedo\\n* Statement jewelry (earrings, necklace, bracelet)\\n* Dress shoes or heels\\n* Clutch or small evening bag\\n* Cufflinks and tie (for tuxedo)\\n* Evening makeup and hairstyle\\n* Silk scarf or shawl\\n* Formal watch\\n* Perfume or cologne\\n* Pocket square (for tuxedo)\"\n",
    "}"
   ]
  },
  {
   "cell_type": "code",
   "execution_count": 139,
   "metadata": {},
   "outputs": [],
   "source": [
    "trainset = [dspy.Example(question=key, answer=value) for key, value in trainset_dict.items()]"
   ]
  },
  {
   "cell_type": "code",
   "execution_count": 141,
   "metadata": {},
   "outputs": [],
   "source": [
    "from dspy import teleprompt\n",
    "teleprompter = teleprompt.LabeledFewShot()\n",
    "optimized_Find_Items = teleprompter.compile(student=FindItems(), trainset=trainset)"
   ]
  },
  {
   "cell_type": "code",
   "execution_count": 164,
   "metadata": {},
   "outputs": [],
   "source": [
    "response = optimized_Find_Items(\"party wear\")"
   ]
  },
  {
   "cell_type": "code",
   "execution_count": 165,
   "metadata": {},
   "outputs": [
    {
     "name": "stdout",
     "output_type": "stream",
     "text": [
      "Here is the extracted list of clothing items and accessories:\n",
      "\n",
      "**Party Wear**\n",
      "\n",
      "* Sequined dress\n",
      "* High heels (black or red)\n",
      "* Statement necklace with rhinestones\n",
      "* Earrings with dangling crystals\n",
      "* Sparkly clutch purse (silver or gold)\n",
      "* Cocktail ring with gemstones\n"
     ]
    },
    {
     "name": "stderr",
     "output_type": "stream",
     "text": [
      "Bad pipe message: %s [b\"\\xc0\\x0f\\xe1\\xa8\\xa3\\xfb\\x06\\x18L\\x8a\\x00\\xafGf\\xca[d\\xee\\x00\\x00|\\xc0,\\xc00\\x00\\xa3\\x00\\x9f\\xcc\\xa9\\xcc\\xa8\\xcc\\xaa\\xc0\\xaf\\xc0\\xad\\xc0\\xa3\\xc0\\x9f\\xc0]\\xc0a\\xc0W\\xc0S\\xc0+\\xc0/\\x00\\xa2\\x00\\x9e\\xc0\\xae\\xc0\\xac\\xc0\\xa2\\xc0\\x9e\\xc0\\\\\\xc0`\\xc0V\\xc0R\\xc0$\\xc0(\\x00k\\x00j\\xc0#\\xc0'\\x00g\\x00@\\xc0\\n\\xc0\"]\n",
      "Bad pipe message: %s [b'9\\x008\\xc0\\t\\xc0\\x13\\x003\\x002\\x00\\x9d\\xc0\\xa1\\xc0\\x9d\\xc0Q']\n",
      "Bad pipe message: %s [b\"v\\xf08\\xe8\\x14\\xddTb\\x869\\xb9\\x00\\xefl_Z\\x9a\\xc0\\x00\\x00\\xa6\\xc0,\\xc00\\x00\\xa3\\x00\\x9f\\xcc\\xa9\\xcc\\xa8\\xcc\\xaa\\xc0\\xaf\\xc0\\xad\\xc0\\xa3\\xc0\\x9f\\xc0]\\xc0a\\xc0W\\xc0S\\xc0+\\xc0/\\x00\\xa2\\x00\\x9e\\xc0\\xae\\xc0\\xac\\xc0\\xa2\\xc0\\x9e\\xc0\\\\\\xc0`\\xc0V\\xc0R\\xc0$\\xc0(\\x00k\\x00j\\xc0s\\xc0w\\x00\\xc4\\x00\\xc3\\xc0#\\xc0'\\x00g\\x00@\\xc0r\\xc0v\\x00\\xbe\\x00\\xbd\\xc0\\n\\xc0\\x14\\x009\\x008\\x00\\x88\\x00\\x87\\xc0\\t\\xc0\\x13\\x003\\x002\\x00\\x9a\\x00\\x99\\x00E\\x00D\\xc0\\x07\\xc0\\x11\\xc0\\x08\\xc0\\x12\\x00\\x16\\x00\\x13\\x00\\x9d\\xc0\\xa1\\xc0\\x9d\\xc0Q\\x00\\x9c\\xc0\\xa0\\xc0\\x9c\\xc0P\\x00=\\x00\\xc0\\x00<\\x00\\xba\\x005\\x00\\x84\\x00/\\x00\\x96\\x00A\\x00\\x05\\x00\\n\\x00\\xff\\x01\\x00\\x00j\\x00\\x00\\x00\\x0e\\x00\\x0c\\x00\\x00\\t127.0.0.1\\x00\\x0b\\x00\\x04\\x03\\x00\\x01\\x02\\x00\\n\\x00\\x0c\\x00\\n\\x00\\x1d\\x00\\x17\\x00\\x1e\\x00\\x19\\x00\\x18\\x00#\\x00\\x00\\x00\\x16\\x00\\x00\\x00\\x17\\x00\\x00\\x00\"]\n",
      "Bad pipe message: %s [b'0\\x00.\\x04\\x03\\x05\\x03\\x06\\x03\\x08\\x07\\x08']\n",
      "Bad pipe message: %s [b'\\t\\x08\\n\\x08\\x0b\\x08\\x04']\n",
      "Bad pipe message: %s [b'\\x08\\x06\\x04\\x01\\x05\\x01\\x06', b'', b'\\x03\\x03']\n",
      "Bad pipe message: %s [b'6$\\xbe\\x9e\\xeb\\xe4\\x90;\\x03\\x19\\xf7\\xb9\\xdb\\x06K\\x92\\xbf\\x9f\\x00\\x00\\xa2\\xc0\\x14\\xc0\\n\\x009\\x008\\x007\\x006\\x00\\x88\\x00\\x87\\x00\\x86\\x00\\x85\\xc0\\x19\\x00:\\x00\\x89\\xc0\\x0f\\xc0\\x05\\x005\\x00\\x84\\xc0\\x13\\xc0\\t\\x003\\x002\\x001\\x000\\x00\\x9a\\x00\\x99\\x00\\x98\\x00\\x97\\x00E\\x00D\\x00C\\x00B\\xc0\\x18\\x004\\x00\\x9b\\x00F\\xc0\\x0e\\xc0\\x04\\x00/']\n",
      "Bad pipe message: %s [b'']\n",
      "Bad pipe message: %s [b'', b'\\x02']\n",
      "Bad pipe message: %s [b'\\x05\\x02\\x06']\n",
      "Bad pipe message: %s [b'f\\xe9\\x86\\xb9V\\x12.\\x858y\\xe1%\\x8dwN!p\\xe5\\x00\\x00\\xa2\\xc0\\x14\\xc0\\n\\x009\\x008\\x007\\x006\\x00\\x88\\x00\\x87\\x00\\x86\\x00\\x85\\xc0\\x19\\x00:\\x00\\x89\\xc0\\x0f\\xc0']\n",
      "Bad pipe message: %s [b'5\\x00\\x84\\xc0']\n",
      "Bad pipe message: %s [b'\\t\\x003\\x002\\x001\\x000\\x00\\x9a\\x00\\x99\\x00\\x98\\x00\\x97\\x00']\n",
      "Bad pipe message: %s [b'D\\x00C\\x00B\\xc0\\x18\\x004\\x00\\x9b\\x00F\\xc0\\x0e\\xc0\\x04\\x00/\\x00\\x96\\x00A\\x00\\x07\\xc0\\x11\\xc0\\x07\\xc0\\x16\\x00\\x18\\xc0\\x0c\\xc0\\x02\\x00\\x05\\x00\\x04\\xc0\\x12\\xc0\\x08\\x00\\x16\\x00\\x13\\x00\\x10\\x00\\r\\xc0\\x17\\x00\\x1b\\xc0\\r\\xc0\\x03\\x00\\n\\x00\\x15\\x00\\x12\\x00']\n",
      "Bad pipe message: %s [b'\\x0c\\x00\\x1a\\x00\\t\\x00\\x14\\x00\\x11\\x00\\x19\\x00\\x08\\x00']\n",
      "Bad pipe message: %s [b\"\\xb5\\xd0\\xffI\\xe4>\\x00\\xf9Gbb\\x0c\\x88\\xa9d,\\xa4\\xaa\\x00\\x00\\x86\\xc00\\xc0,\\xc0(\\xc0$\\xc0\\x14\\xc0\\n\\x00\\xa5\\x00\\xa3\\x00\\xa1\\x00\\x9f\\x00k\\x00j\\x00i\\x00h\\x009\\x008\\x007\\x006\\xc02\\xc0.\\xc0*\\xc0&\\xc0\\x0f\\xc0\\x05\\x00\\x9d\\x00=\\x005\\xc0/\\xc0+\\xc0'\\xc0#\\xc0\\x13\\xc0\\t\\x00\\xa4\\x00\\xa2\\x00\\xa0\\x00\\x9e\\x00g\\x00@\\x00?\\x00>\\x003\\x002\\x001\\x000\\xc01\\xc0-\\xc0)\\xc0%\\xc0\\x0e\\xc0\\x04\\x00\\x9c\\x00<\\x00/\\x00\\x9a\\x00\\x99\\x00\\x98\\x00\\x97\\x00\\x96\\x00\\x07\\xc0\\x11\\xc0\\x07\\xc0\\x0c\\xc0\\x02\\x00\\x05\\x00\\x04\\x00\\xff\\x02\\x01\\x00\\x00g\\x00\\x00\\x00\\x0e\\x00\\x0c\\x00\\x00\\t127.0.0.1\\x00\\x0b\\x00\\x04\\x03\\x00\\x01\\x02\\x00\\n\\x00\\x1c\\x00\\x1a\\x00\\x17\\x00\\x19\\x00\\x1c\\x00\\x1b\\x00\\x18\\x00\\x1a\\x00\\x16\\x00\\x0e\\x00\\r\\x00\\x0b\\x00\\x0c\\x00\\t\\x00\\n\\x00#\\x00\\x00\\x00\\r\\x00 \\x00\\x1e\\x06\\x01\\x06\\x02\\x06\\x03\\x05\\x01\\x05\\x02\\x05\\x03\\x04\\x01\\x04\\x02\\x04\\x03\\x03\\x01\\x03\"]\n",
      "Bad pipe message: %s [b'\\x17\\x00\\x03\\xc0\\x10']\n",
      "Bad pipe message: %s [b'\\x03', b'\\x02', b'\\x03']\n",
      "Bad pipe message: %s [b\"9'\\x9fnen\\xf6t\\x93\\x1e#\\xf30}\\xa9N\\xfa\\x91\\x00\\x00\\xf4\\xc00\\xc0,\\xc0(\\xc0$\\xc0\\x14\\xc0\\n\\x00\\xa5\\x00\\xa3\\x00\\xa1\\x00\\x9f\\x00k\\x00j\\x00i\\x00h\\x009\\x008\\x007\\x006\\x00\\x88\\x00\\x87\\x00\\x86\\x00\\x85\\xc0\\x19\\x00\\xa7\\x00m\\x00:\\x00\\x89\\xc02\\xc0.\\xc0*\\xc0&\\xc0\\x0f\\xc0\\x05\\x00\\x9d\\x00=\\x005\\x00\\x84\\xc0/\\xc0+\\xc0'\\xc0#\\xc0\\x13\\xc0\\t\\x00\\xa4\\x00\\xa2\\x00\\xa0\\x00\\x9e\\x00g\\x00@\\x00?\\x00>\\x003\\x002\\x001\\x000\\x00\\x9a\\x00\\x99\\x00\"]\n",
      "Bad pipe message: %s [b'\\x97\\x00E\\x00D\\x00C\\x00B\\xc0\\x18\\x00\\xa6\\x00l\\x004\\x00\\x9b\\x00F\\xc01\\xc0-\\xc0)\\xc0%\\xc0\\x0e\\xc0\\x04\\x00\\x9c\\x00<\\x00/\\x00\\x96\\x00A\\x00\\x07\\xc0\\x11\\xc0\\x07\\xc0\\x16\\x00\\x18\\xc0\\x0c\\xc0\\x02\\x00\\x05\\x00\\x04\\xc0\\x12\\xc0\\x08\\x00\\x16\\x00\\x13\\x00\\x10\\x00\\r\\xc0\\x17\\x00\\x1b\\xc0\\r\\xc0\\x03\\x00\\n\\x00\\x15\\x00\\x12\\x00\\x0f\\x00\\x0c\\x00\\x1a\\x00\\t\\x00\\x14\\x00\\x11\\x00\\x19\\x00\\x08\\x00\\x06\\x00\\x17\\x00\\x03\\xc0\\x10\\xc0\\x06\\xc0\\x15\\xc0\\x0b\\xc0\\x01\\x00;\\x00\\x02\\x00\\x01\\x00\\xff\\x02\\x01\\x00\\x00g\\x00\\x00\\x00\\x0e\\x00\\x0c\\x00\\x00\\t127.0.0.1\\x00']\n",
      "Bad pipe message: %s [b'\\x04\\x03\\x00\\x01\\x02\\x00\\n\\x00\\x1c\\x00']\n",
      "Bad pipe message: %s [b'\\x17\\x00\\x19\\x00\\x1c\\x00\\x1b\\x00\\x18\\x00\\x1a\\x00\\x16\\x00\\x0e\\x00\\r\\x00\\x0b\\x00\\x0c\\x00\\t\\x00\\n']\n"
     ]
    }
   ],
   "source": [
    "print(response)\n"
   ]
  },
  {
   "cell_type": "markdown",
   "metadata": {},
   "source": []
  },
  {
   "cell_type": "code",
   "execution_count": 130,
   "metadata": {},
   "outputs": [
    {
     "data": {
      "text/plain": [
       "['Snake-print scarf',\n",
       " 'Black leather jacket with silver studs',\n",
       " 'High-waisted black jeans with ripped knees',\n",
       " 'White tank top with built-in bralette',\n",
       " 'Ankle boots with buckles shaped like snake heads']"
      ]
     },
     "execution_count": 130,
     "metadata": {},
     "output_type": "execute_result"
    }
   ],
   "source": [
    "parse_clothing_items(module)"
   ]
  },
  {
   "cell_type": "code",
   "execution_count": null,
   "metadata": {},
   "outputs": [],
   "source": [
    "import re\n",
    "\n",
    "def parse_clothing_list(text):\n",
    "    # Regular expression to match items after numbers\n",
    "    pattern = r'\\d+\\.\\s(.+)'\n",
    "\n",
    "    # Find all matches in the input text\n",
    "    matches = re.findall(pattern, text)\n",
    "\n",
    "    return matches\n",
    "\n"
   ]
  },
  {
   "cell_type": "code",
   "execution_count": 144,
   "metadata": {},
   "outputs": [],
   "source": [
    "def parse_clothing_items(text):\n",
    "    # Split the text into lines\n",
    "    lines = text.split('\\n')\n",
    "\n",
    "    # Initialize an empty list to hold the items\n",
    "    items = []\n",
    "\n",
    "    # Loop through each line\n",
    "    for line in lines:\n",
    "        # Check if the line starts with '*'\n",
    "        if line.strip().startswith('* '):\n",
    "            # Remove the '*' and any leading/trailing whitespace, then add to the list\n",
    "            item = line.strip()[2:].strip()\n",
    "            items.append(item)\n",
    "\n",
    "    return items\n"
   ]
  },
  {
   "cell_type": "code",
   "execution_count": 155,
   "metadata": {},
   "outputs": [],
   "source": [
    "class Style(dspy.Signature):\n",
    "    \"\"\"\n",
    "    Generate styling advise, given these products\n",
    "    \"\"\"\n",
    "    products = dspy.InputField()\n",
    "    answer = dspy.OutputField()"
   ]
  },
  {
   "cell_type": "code",
   "execution_count": 167,
   "metadata": {},
   "outputs": [],
   "source": [
    "class Styling_Advise(dspy.Module):\n",
    "    def __init__(self):\n",
    "        super().__init__()\n",
    "        self.generate_response = dspy.Predict(Style)\n",
    "        self.retrieve = dspy.Retrieve(k=3)\n",
    "\n",
    "    def forward(self, question):\n",
    "        item_list= optimized_Find_Items(question)\n",
    "        product_list = []\n",
    "        for item in item_list:\n",
    "            product_list += self.retrieve(item).passages\n",
    "\n",
    "        response = self.generate_response(products= ', '.join(product_list))\n",
    "        return response.answer"
   ]
  },
  {
   "cell_type": "code",
   "execution_count": 168,
   "metadata": {},
   "outputs": [],
   "source": [
    "module = Styling_Advise()"
   ]
  },
  {
   "cell_type": "code",
   "execution_count": 169,
   "metadata": {},
   "outputs": [],
   "source": [
    "response = module(\"Corporate Award Ceremony\")\n"
   ]
  },
  {
   "cell_type": "code",
   "execution_count": 170,
   "metadata": {},
   "outputs": [
    {
     "name": "stdout",
     "output_type": "stream",
     "text": [
      "Based on the products you've listed, here are some styling advice:\n",
      "\n",
      "**Casual Outfit**\n",
      "\n",
      "* Pair Do U Speak Green Boys Olive Trousers with a matching olive green t-shirt (Do u speak green Men Olive T-shirt) and sneakers for a relaxed look.\n",
      "* Add a pop of color with Red Rose Pink Camisole or any other camisole from the collection.\n",
      "\n",
      "**Smart Casual**\n",
      "\n",
      "* Combine Do U Speak Green Men Blue T-shirt with Vans Men Rowley shoes and dark wash jeans for a stylish, everyday outfit.\n",
      "* Accessorize with Colour Me Men Silver Deo to add some shine to your look.\n",
      "\n",
      "**Formal Occasion**\n",
      "\n",
      "* Go classic with Nike Men's Quoted Black T-shirt paired with formal trousers (Do u speak green Boys Olive Trousers) and dress shoes.\n",
      "* Add a touch of sophistication with Rasasi Men Numero Due Deo or Colour Me Women Purple Deo for a stylish fragrance.\n",
      "\n",
      "**Layering**\n",
      "\n",
      "* Layer Do U Speak Green Men Olive Sweatshirt over a plain white t-shirt (Tantra T-shirt) for a cozy, casual look.\n",
      "* Use Lakme Insta-Liner to add some definition to your brows and enhance your features.\n",
      "\n",
      "Remember, these are just suggestions based on the products you've listed. Feel free to experiment with different combinations that reflect your personal style!\n"
     ]
    }
   ],
   "source": [
    "print(response)"
   ]
  },
  {
   "cell_type": "code",
   "execution_count": 171,
   "metadata": {},
   "outputs": [
    {
     "name": "stdout",
     "output_type": "stream",
     "text": [
      "\n",
      "\n",
      "\n",
      "List of extracted clothing items and accessories\n",
      "\n",
      "---\n",
      "\n",
      "Follow the following format.\n",
      "\n",
      "Prompt: ${prompt}\n",
      "Terms: ['$', '{', 't', 'e', 'r', 'm', 's', '}']\n",
      "\n",
      "---\n",
      "\n",
      "Prompt: Return a list of clothing items and accesores to be worn by a user, given their preferencesPreferences: party wear\n",
      "Terms: []\u001b[32m Here is the extracted list of clothing items and accessories:\n",
      "\n",
      "**Party Wear**\n",
      "\n",
      "* Sequined dress\n",
      "* High heels (black or red)\n",
      "* Statement necklace with rhinestones\n",
      "* Earrings with dangling crystals\n",
      "* Sparkly clutch purse (silver or gold)\n",
      "* Cocktail ring with gemstones\u001b[0m\n",
      "\n",
      "\n",
      "\n",
      "\n",
      "\n",
      "List of extracted clothing items and accessories\n",
      "\n",
      "---\n",
      "\n",
      "Follow the following format.\n",
      "\n",
      "Prompt: ${prompt}\n",
      "Terms: ['$', '{', 't', 'e', 'r', 'm', 's', '}']\n",
      "\n",
      "---\n",
      "\n",
      "Prompt: Return a list of clothing items and accesores to be worn by a user, given their preferencesPreferences: Corporate Award Ceremony\n",
      "Terms: []\u001b[32m Here is the extracted list of clothing items and accessories:\n",
      "\n",
      "**Corporate Award Ceremony**\n",
      "\n",
      "* Suit (black or navy blue)\n",
      "* Dress shirt (white or light-colored)\n",
      "* Tie (patterned or simple design)\n",
      "* Blazer (optional, but recommended for added professionalism)\n",
      "* Formal trousers\n",
      "* Black socks\n",
      "* Leather shoes\n",
      "* Watch with a leather strap\n",
      "\n",
      "Note: These are general suggestions and may vary depending on personal style and company culture.\u001b[0m\n",
      "\n",
      "\n",
      "\n",
      "\n",
      "\n",
      "Generate styling advise, given these products\n",
      "\n",
      "---\n",
      "\n",
      "Follow the following format.\n",
      "\n",
      "Products: ${products}\n",
      "Answer: ${answer}\n",
      "\n",
      "---\n",
      "\n",
      "Products: nan Do u speak green Men Olive T-shirt Casio EDIFICE ED142 EF-503L-1AVDF Ediots T-shirt Do u speak green Boys Olive Trousers Do u speak green Men Olive Sweatshirt Red Rose Pink Camisole Red Rose Red Camisole Red Rose Sky Blue Camisole Red Rose Blue Camisole Colour me Women Red Deo Do u speak green Men Olive T-shirt Casio EDIFICE ED142 EF-503L-1AVDF Ediots T-shirt Do u speak green Boys Olive Trousers Do u speak green Men Olive Sweatshirt nan I Dee Men Sunglasses nan Rasasi Men Numero Uno Deo Do u speak green Men Blue T-shirt Do u speak Cream Men T-shirt Tantra T-shirt Do u speak green Men T-shirt Do U Speak Green Men Blue T-Shirt nan Do u speak green Men Olive T-shirt Casio EDIFICE ED142 EF-503L-1AVDF Ediots T-shirt Do u speak green Boys Olive Trousers Do u speak green Men Olive Sweatshirt Do u speak green Men Olive T-shirt Casio EDIFICE ED142 EF-503L-1AVDF Ediots T-shirt Do u speak green Boys Olive Trousers Do u speak green Men Olive Sweatshirt Hugo Boss XY Men Deo Reebok Unisex Reezoom Deo Converse Unisex Mono Black Canvas Colour Me Men Silver Deo Hugo Men Element Deo Prafful Multi Coloured Sari Do u speak green Men Blue T-shirt Do u speak Cream Men T-shirt Tantra T-shirt Do u speak green Men T-shirt Do U Speak Green Men Blue T-Shirt Red Rose Pink Camisole Red Rose Red Camisole Red Rose Sky Blue Camisole Red Rose Blue Camisole Colour me Women Red Deo Colour me Men Gold Deo Colour me Men Black Deo Colour me Men Green Deo Colour Me Men Silver Deo Rasasi Men Numero Due Deo Rasasi Men Numero Uno Deo nan Amante Bra BCSO01 Do u speak green Men Blue T-shirt Do u speak Cream Men T-shirt Tantra T-shirt Do u speak green Men T-shirt Do U Speak Green Men Blue T-Shirt Do u speak green Men Olive T-shirt Casio EDIFICE ED142 EF-503L-1AVDF Ediots T-shirt Do u speak green Boys Olive Trousers Do u speak green Men Olive Sweatshirt Colour me Women Red Deo Colour me Men Green Deo Colour Me Women Purple Deo Colour me Men Gold Deo Colour Me Women Pink Deo Colour Me Men Silver Deo nan Lakme Insta-Liner Colour Me Men Silver Deo Colour Me Men White Deo Colour Me Women Purple Deo nan I Dee Men Sunglasses nan Rasasi Men Numero Uno Deo Do u speak green Men Blue T-shirt Do u speak Cream Men T-shirt Tantra T-shirt Do u speak green Men T-shirt Do U Speak Green Men Blue T-Shirt nan FNF Pink Sari FNF Orange Printed Sari FNF Orange & Purple Sari nan Amante Bra BCSO01 nan Lakme Insta-Liner Colour Me Men Silver Deo Colour Me Men White Deo Colour Me Women Purple Deo nan Do u speak green Men Blue T-shirt Do u speak Cream Men T-shirt Tantra T-shirt Do u speak green Men T-shirt Do U Speak Green Men Blue T-Shirt nan nan I Dee Men Sunglasses nan Do u speak green Men Brown 3/4th Pant Do u speak green Men Brown T-shirt Colour me Men Green Deo Guess Women Puffy G Black Watch Colour Me Men Silver Deo Guess Women G Hype Silver Watch nan I Dee Men Sunglasses Do u speak green Men Blue T-shirt Do u speak Cream Men T-shirt Tantra T-shirt Do u speak green Men T-shirt Do U Speak Green Men Blue T-Shirt Do u speak green Men Olive T-shirt Casio EDIFICE ED142 EF-503L-1AVDF Ediots T-shirt Do u speak green Boys Olive Trousers Do u speak green Men Olive Sweatshirt nan nan Rasasi Men Numero Uno Deo Colour me Men Gold Deo Colour me Men Black Deo Colour me Men Green Deo Colour Me Men Silver Deo Rasasi Men Numero Due Deo Rasasi Men Numero Uno Deo nan Colour me Women Red Deo Colour me Men Green Deo Colour Me Women Purple Deo Colour me Men Gold Deo Colour Me Women Pink Deo Colour Me Men Silver Deo Colour me Men Gold Deo Colour me Men Black Deo Colour me Men Green Deo Colour Me Men Silver Deo Rasasi Men Numero Due Deo Rasasi Men Numero Uno Deo nan Amante Bra BCSO01 nan Amante Bra BCSO01 Do u speak green Men Olive T-shirt Casio EDIFICE ED142 EF-503L-1AVDF Ediots T-shirt Do u speak green Boys Olive Trousers Do u speak green Men Olive Sweatshirt nan Rasasi Men Numero Uno Deo nan Rasasi Men Numero Uno Deo nan Red Rose Pink Camisole Red Rose Red Camisole Red Rose Sky Blue Camisole Red Rose Blue Camisole Colour me Women Red Deo nan I Dee Men Sunglasses Do u speak green Men Olive T-shirt Casio EDIFICE ED142 EF-503L-1AVDF Ediots T-shirt Do u speak green Boys Olive Trousers Do u speak green Men Olive Sweatshirt nan Rasasi Men Numero Uno Deo Do u speak green Men Olive T-shirt W Women Check Blue Kurtas W Women Check Navy Blue Kurtis Do u speak green Boys Olive Trousers Alma Women Orange Kurta Do u speak green Men Orange T-shirt Do u speak green Men Red T-shirt Do u speak green Women Red T-shirt Colour me Women Flowers Deo Colour me Women Red Deo nan Do u speak green Men Orange T-shirt Do u speak green Men Red T-shirt Do u speak green Women Red T-shirt Colour me Women Flowers Deo Colour me Women Red Deo nan nan Amante Bra BCSO01 nan Red Rose Pink Camisole Red Rose Red Camisole Red Rose Sky Blue Camisole Red Rose Blue Camisole Colour me Women Red Deo nan nan Red Rose Pink Camisole Red Rose Red Camisole Red Rose Sky Blue Camisole Red Rose Blue Camisole Colour me Women Red Deo Colour me Men Gold Deo Colour me Men Black Deo Colour me Men Green Deo Colour Me Men Silver Deo Rasasi Men Numero Due Deo Rasasi Men Numero Uno Deo Do u speak green Men Blue T-shirt Do u speak Cream Men T-shirt Tantra T-shirt Do u speak green Men T-shirt Do U Speak Green Men Blue T-Shirt Do u speak green Men Olive T-shirt Casio EDIFICE ED142 EF-503L-1AVDF Ediots T-shirt Do u speak green Boys Olive Trousers Do u speak green Men Olive Sweatshirt Colour me Men Gold Deo Colour me Men Black Deo Colour me Men Green Deo Colour Me Men Silver Deo Rasasi Men Numero Due Deo Rasasi Men Numero Uno Deo W Women White Kurta W Women Blue Kurti W Women Blue Kurta Colour me Men Gold Deo Colour me Men Black Deo Colour me Men Green Deo Colour Me Men Silver Deo Rasasi Men Numero Due Deo Rasasi Men Numero Uno Deo Red Rose Pink Camisole Red Rose Red Camisole Red Rose Sky Blue Camisole Red Rose Blue Camisole Colour me Women Red Deo Colour me Women Red Deo Colour me Men Green Deo Colour Me Women Purple Deo Colour me Men Gold Deo Colour Me Women Pink Deo Colour Me Men Silver Deo nan Amante Bra BCSO01 Do u speak green Men Olive T-shirt Casio EDIFICE ED142 EF-503L-1AVDF Ediots T-shirt Do u speak green Boys Olive Trousers Do u speak green Men Olive Sweatshirt Red Rose Pink Camisole Red Rose Red Camisole Red Rose Sky Blue Camisole Red Rose Blue Camisole Colour me Women Red Deo Do u speak green Men Olive T-shirt Casio EDIFICE ED142 EF-503L-1AVDF Ediots T-shirt Do u speak green Boys Olive Trousers Do u speak green Men Olive Sweatshirt nan nan nan nan Do u speak green Men Orange T-shirt Do u speak green Men Red T-shirt Do u speak green Women Red T-shirt Colour me Women Flowers Deo Colour me Women Red Deo nan Do u speak green Men Orange T-shirt Do u speak green Men Red T-shirt Do u speak green Women Red T-shirt Colour me Women Flowers Deo Colour me Women Red Deo nan Do u speak green Men Orange T-shirt Do u speak green Men Red T-shirt Do u speak green Women Red T-shirt Colour me Women Flowers Deo Colour me Women Red Deo nan nan Rasasi Men Numero Uno Deo nan nan I Dee Men Sunglasses Do u speak green Men Blue T-shirt Do u speak Cream Men T-shirt Tantra T-shirt Do u speak green Men T-shirt Do U Speak Green Men Blue T-Shirt Colour me Women Red Deo Do u speak green Men Red T-shirt Colour me Women Flowers Deo Do u speak green Men Orange T-shirt Colour me Men Black Deo Do u speak green Women Red T-shirt Colour me Men Blue Deo Amante Bra BCSO01 Colour me Men Black Deo Colour Me Men Silver Deo Colour Me Women Sky Blue Deo Avirate Blue Brief nan Lakme Insta-Liner Colour Me Men Silver Deo Colour Me Men White Deo Colour Me Women Purple Deo Colour me Men Gold Deo Colour me Men Black Deo Colour me Men Green Deo Colour Me Men Silver Deo Rasasi Men Numero Due Deo Rasasi Men Numero Uno Deo nan Amante Bra BCSO01 nan nan Red Rose Pink Camisole Red Rose Red Camisole Red Rose Sky Blue Camisole Red Rose Blue Camisole Colour me Women Red Deo nan Colour me Men Gold Deo Colour me Men Black Deo Colour me Men Green Deo Colour Me Men Silver Deo Rasasi Men Numero Due Deo Rasasi Men Numero Uno Deo nan Colour Me Men Silver Deo Colour Me Women Purple Deo nan Colour me Men Blue Deo Amante Bra BCSO01 Colour me Men Black Deo Colour Me Men Silver Deo Colour Me Women Sky Blue Deo Avirate Blue Brief nan Lakme Insta-Liner Colour Me Men Silver Deo Colour Me Men White Deo Colour Me Women Purple Deo nan Do u speak green Men Olive T-shirt Casio EDIFICE ED142 EF-503L-1AVDF Ediots T-shirt Do u speak green Boys Olive Trousers Do u speak green Men Olive Sweatshirt Do u speak Cream Men T-shirt Do u speak green Men Red T-shirt Do u speak green Men Brown T-shirt Do u speak green Men Orange T-shirt Do U Speak Green Men Beige T-Shirt Do u speak green Men Beige T-shirt Do u speak green Men Orange T-shirt Do u speak green Men Red T-shirt Do u speak green Women Red T-shirt Colour me Women Flowers Deo Colour me Women Red Deo nan Colour me Women Red Deo Colour me Men Green Deo Colour Me Women Purple Deo Colour me Men Gold Deo Colour Me Women Pink Deo Colour Me Men Silver Deo Red Rose Pink Camisole Red Rose Red Camisole Red Rose Sky Blue Camisole Red Rose Blue Camisole Colour me Women Red Deo Do u speak green Men Olive T-shirt Casio EDIFICE ED142 EF-503L-1AVDF Ediots T-shirt Do u speak green Boys Olive Trousers Do u speak green Men Olive Sweatshirt nan Rasasi Men Numero Uno Deo nan Rasasi Men Numero Uno Deo nan Rasasi Men Numero Uno Deo nan nan I Dee Men Sunglasses Red Rose Pink Camisole Red Rose Red Camisole Red Rose Sky Blue Camisole Red Rose Blue Camisole Colour me Women Red Deo Do u speak green Men Blue T-shirt Do u speak Cream Men T-shirt Tantra T-shirt Do u speak green Men T-shirt Do U Speak Green Men Blue T-Shirt Colour me Women Red Deo Do u speak green Men Red T-shirt Colour me Women Flowers Deo Do u speak green Men Orange T-shirt Colour me Men Black Deo Do u speak green Women Red T-shirt W Women White Kurta W Women Blue Kurti W Women Blue Kurta nan nan I Dee Men Sunglasses Do u speak green Men Blue T-shirt Do u speak Cream Men T-shirt Tantra T-shirt Do u speak green Men T-shirt Do U Speak Green Men Blue T-Shirt Do u speak green Men Olive T-shirt Casio EDIFICE ED142 EF-503L-1AVDF Ediots T-shirt Do u speak green Boys Olive Trousers Do u speak green Men Olive Sweatshirt nan Red Rose Pink Camisole Red Rose Red Camisole Red Rose Sky Blue Camisole Red Rose Blue Camisole Colour me Women Red Deo nan Lakme Insta-Liner Colour Me Men Silver Deo Colour Me Men White Deo Colour Me Women Purple Deo nan I Dee Men Sunglasses Do u speak green Men Brown 3/4th Pant Do u speak green Men Brown T-shirt Colour me Men Green Deo Guess Women Puffy G Black Watch Colour Me Men Silver Deo Guess Women G Hype Silver Watch nan Do u speak green Men Blue T-shirt Do u speak Cream Men T-shirt Tantra T-shirt Do u speak green Men T-shirt Do U Speak Green Men Blue T-Shirt Do u speak green Men Olive T-shirt W Women Check Blue Kurtas Aneri Women Ada Multi Kurta W Women Check Navy Blue Kurtis Do u speak green Women Peach T-shirt nan Amante Bra BCSO01 nan nan Lakme Insta-Liner Colour Me Men Silver Deo Colour Me Men White Deo Colour Me Women Purple Deo nan Red Rose Pink Camisole Red Rose Red Camisole Red Rose Sky Blue Camisole Red Rose Blue Camisole Colour me Women Red Deo Do u speak green Men Olive T-shirt Casio EDIFICE ED142 EF-503L-1AVDF Ediots T-shirt Do u speak green Boys Olive Trousers Do u speak green Men Olive Sweatshirt Colour me Women Red Deo Colour me Men Green Deo Colour Me Women Purple Deo Colour me Men Gold Deo Colour Me Women Pink Deo Colour Me Men Silver Deo Do u speak Cream Men T-shirt Do u speak green Men Red T-shirt Do u speak green Men Brown T-shirt Do u speak green Men Orange T-shirt Do U Speak Green Men Beige T-Shirt Do u speak green Men Beige T-shirt Do u speak green Men Orange T-shirt Do u speak green Men Red T-shirt Do u speak green Women Red T-shirt Colour me Women Flowers Deo Colour me Women Red Deo nan Do u speak green Men Blue T-shirt Do u speak Cream Men T-shirt Tantra T-shirt Do u speak green Men T-shirt Do U Speak Green Men Blue T-Shirt nan I Dee Men Sunglasses Do u speak green Men Olive T-shirt Casio EDIFICE ED142 EF-503L-1AVDF Ediots T-shirt Do u speak green Boys Olive Trousers Do u speak green Men Olive Sweatshirt Colour me Women Red Deo Do u speak green Men Red T-shirt Colour me Women Flowers Deo Do u speak green Men Orange T-shirt Colour me Men Black Deo Do u speak green Women Red T-shirt nan Colour me Men Gold Deo Colour me Men Black Deo Colour me Men Green Deo Colour Me Men Silver Deo Rasasi Men Numero Due Deo Rasasi Men Numero Uno Deo Do u speak green Men Blue T-shirt Do u speak Cream Men T-shirt Tantra T-shirt Do u speak green Men T-shirt Do U Speak Green Men Blue T-Shirt Do u speak green Men Blue T-shirt Do u speak Cream Men T-shirt Tantra T-shirt Do u speak green Men T-shirt Do U Speak Green Men Blue T-Shirt Do u speak green Men Olive T-shirt Casio EDIFICE ED142 EF-503L-1AVDF Ediots T-shirt Do u speak green Boys Olive Trousers Do u speak green Men Olive Sweatshirt Red Rose Pink Camisole Red Rose Red Camisole Red Rose Sky Blue Camisole Red Rose Blue Camisole Colour me Women Red Deo nan Do u speak green Men Olive T-shirt Casio EDIFICE ED142 EF-503L-1AVDF Ediots T-shirt Do u speak green Boys Olive Trousers Do u speak green Men Olive Sweatshirt Colour me Women Red Deo Colour me Men Green Deo Colour Me Women Purple Deo Colour me Men Gold Deo Colour Me Women Pink Deo Colour Me Men Silver Deo nan Red Rose Pink Camisole Red Rose Red Camisole Red Rose Sky Blue Camisole Red Rose Blue Camisole Colour me Women Red Deo nan Rasasi Men Numero Uno Deo nan I Dee Men Sunglasses nan nan nan Lakme Insta-Liner Colour Me Men Silver Deo Colour Me Men White Deo Colour Me Women Purple Deo Do u speak green Men Olive T-shirt Casio EDIFICE ED142 EF-503L-1AVDF Ediots T-shirt Do u speak green Boys Olive Trousers Do u speak green Men Olive Sweatshirt Colour me Women Red Deo Colour me Men Green Deo Colour Me Women Purple Deo Colour me Men Gold Deo Colour Me Women Pink Deo Colour Me Men Silver Deo Do u speak green Men Olive T-shirt Casio EDIFICE ED142 EF-503L-1AVDF Ediots T-shirt Do u speak green Boys Olive Trousers Do u speak green Men Olive Sweatshirt nan Rasasi Men Numero Uno Deo nan I Dee Men Sunglasses Do u speak green Men Brown 3/4th Pant Do u speak green Men Brown T-shirt Colour me Men Green Deo Guess Women Puffy G Black Watch Colour Me Men Silver Deo Guess Women G Hype Silver Watch nan Do u speak Cream Men T-shirt Do u speak green Men Red T-shirt Do u speak green Men Brown T-shirt Do u speak green Men Orange T-shirt Do U Speak Green Men Beige T-Shirt Do u speak green Men Beige T-shirt Do u speak green Men Orange T-shirt Do u speak green Men Red T-shirt Do u speak green Women Red T-shirt Colour me Women Flowers Deo Colour me Women Red Deo nan Colour me Men Blue Deo Amante Bra BCSO01 Colour me Men Black Deo Colour Me Men Silver Deo Colour Me Women Sky Blue Deo Avirate Blue Brief nan Lakme Insta-Liner Colour Me Men Silver Deo Colour Me Men White Deo Colour Me Women Purple Deo Colour me Men Gold Deo Colour me Men Black Deo Colour me Men Green Deo Colour Me Men Silver Deo Rasasi Men Numero Due Deo Rasasi Men Numero Uno Deo nan Colour Me Men Silver Deo Do u speak green Men Olive T-shirt Casio EDIFICE ED142 EF-503L-1AVDF Ediots T-shirt Do u speak green Boys Olive Trousers Do u speak green Men Olive Sweatshirt Red Rose Pink Camisole Red Rose Red Camisole Red Rose Sky Blue Camisole Red Rose Blue Camisole Colour me Women Red Deo Colour me Women Red Deo Do u speak green Men Red T-shirt Colour me Women Flowers Deo Do u speak green Men Orange T-shirt Colour me Men Black Deo Do u speak green Women Red T-shirt nan nan Do u speak green Men Blue T-shirt Do u speak Cream Men T-shirt Tantra T-shirt Do u speak green Men T-shirt Do U Speak Green Men Blue T-Shirt nan I Dee Men Sunglasses nan nan Colour me Men Gold Deo Colour me Men Black Deo Colour me Men Green Deo Colour Me Men Silver Deo Rasasi Men Numero Due Deo Rasasi Men Numero Uno Deo nan Lakme Insta-Liner Colour Me Men Silver Deo Colour Me Men White Deo Colour Me Women Purple Deo I Dee Men Sunglasses AND Women Grey Dress Colour me Men Green Deo Colour me Men Black Deo Colour Me Men Silver Deo Colour me Men Gold Deo Colour me Men Blue Deo Amante Bra BCSO01 Colour me Men Black Deo Colour Me Men Silver Deo Colour Me Women Sky Blue Deo Avirate Blue Brief nan Do u speak green Men Blue T-shirt Do u speak Cream Men T-shirt Tantra T-shirt Do u speak green Men T-shirt Do U Speak Green Men Blue T-Shirt Red Rose Pink Camisole Red Rose Red Camisole Red Rose Sky Blue Camisole Red Rose Blue Camisole Colour me Women Red Deo Do u speak green Men Olive T-shirt Casio EDIFICE ED142 EF-503L-1AVDF Ediots T-shirt Do u speak green Boys Olive Trousers Do u speak green Men Olive Sweatshirt nan Amante Bra BCSO01 nan nan nan Do u speak green Men Olive T-shirt Casio EDIFICE ED142 EF-503L-1AVDF Ediots T-shirt Do u speak green Boys Olive Trousers Do u speak green Men Olive Sweatshirt nan Colour me Women Red Deo Colour me Men Green Deo Colour Me Women Purple Deo Colour me Men Gold Deo Colour Me Women Pink Deo Colour Me Men Silver Deo Do u speak green Men Olive T-shirt Casio EDIFICE ED142 EF-503L-1AVDF Ediots T-shirt Do u speak green Boys Olive Trousers Do u speak green Men Olive Sweatshirt Colour me Women Red Deo Colour me Men Green Deo Colour Me Women Purple Deo Colour me Men Gold Deo Colour Me Women Pink Deo Colour Me Men Silver Deo FNF Pink Sari FNF Orange Printed Sari FNF Orange & Purple Sari nan Red Rose Pink Camisole Red Rose Red Camisole Red Rose Sky Blue Camisole Red Rose Blue Camisole Colour me Women Red Deo Colour me Men Gold Deo Colour me Men Black Deo Colour me Men Green Deo Colour Me Men Silver Deo Rasasi Men Numero Due Deo Rasasi Men Numero Uno Deo Colour me Women Red Deo Colour me Men Green Deo Colour Me Women Purple Deo Colour me Men Gold Deo Colour Me Women Pink Deo Colour Me Men Silver Deo Colour me Women Red Deo Colour me Men Green Deo Colour Me Women Purple Deo Colour me Men Gold Deo Colour Me Women Pink Deo Colour Me Men Silver Deo Do u speak green Men Olive T-shirt Casio EDIFICE ED142 EF-503L-1AVDF Ediots T-shirt Do u speak green Boys Olive Trousers Do u speak green Men Olive Sweatshirt Colour me Women Red Deo Colour me Men Green Deo Colour Me Women Purple Deo Colour me Men Gold Deo Colour Me Women Pink Deo Colour Me Men Silver Deo nan Red Rose Pink Camisole Red Rose Red Camisole Red Rose Sky Blue Camisole Red Rose Blue Camisole Colour me Women Red Deo nan FNF Pink Sari FNF Orange Printed Sari FNF Orange & Purple Sari Do u speak green Men Olive T-shirt Casio EDIFICE ED142 EF-503L-1AVDF Ediots T-shirt Do u speak green Boys Olive Trousers Do u speak green Men Olive Sweatshirt nan Rasasi Men Numero Uno Deo nan Rasasi Men Numero Uno Deo nan I Dee Men Sunglasses nan nan Colour me Men Gold Deo Colour me Men Black Deo Colour me Men Green Deo Colour Me Men Silver Deo Rasasi Men Numero Due Deo Rasasi Men Numero Uno Deo nan Lakme Insta-Liner Colour Me Men Silver Deo Colour Me Men White Deo Colour Me Women Purple Deo nan I Dee Men Sunglasses nan Rasasi Men Numero Uno Deo nan Do u speak Cream Men T-shirt Do u speak green Men Red T-shirt Do u speak green Men Brown T-shirt Do u speak green Men Orange T-shirt Do U Speak Green Men Beige T-Shirt Do u speak green Men Beige T-shirt Do u speak green Men Orange T-shirt Do u speak green Men Red T-shirt Do u speak green Women Red T-shirt Colour me Women Flowers Deo Colour me Women Red Deo nan FNF Pink Sari FNF Orange Printed Sari FNF Orange & Purple Sari nan Red Rose Pink Camisole Red Rose Red Camisole Red Rose Sky Blue Camisole Red Rose Blue Camisole Colour me Women Red Deo nan Colour me Men Gold Deo Colour me Men Black Deo Colour me Men Green Deo Colour Me Men Silver Deo Rasasi Men Numero Due Deo Rasasi Men Numero Uno Deo nan Lakme Insta-Liner Colour Me Men Silver Deo Colour Me Men White Deo Colour Me Women Purple Deo Do u speak green Men Blue T-shirt Do u speak Cream Men T-shirt Tantra T-shirt Do u speak green Men T-shirt Do U Speak Green Men Blue T-Shirt Red Rose Pink Camisole Red Rose Red Camisole Red Rose Sky Blue Camisole Red Rose Blue Camisole Colour me Women Red Deo nan nan nan Rasasi Men Numero Uno Deo Do u speak green Men Olive T-shirt Casio EDIFICE ED142 EF-503L-1AVDF Ediots T-shirt Do u speak green Boys Olive Trousers Do u speak green Men Olive Sweatshirt Red Rose Pink Camisole Red Rose Red Camisole Red Rose Sky Blue Camisole Red Rose Blue Camisole Colour me Women Red Deo nan Rasasi Men Numero Uno Deo Do u speak green Men Orange T-shirt Do u speak green Men Red T-shirt Do u speak green Women Red T-shirt Colour me Women Flowers Deo Colour me Women Red Deo nan Colour me Men Blue Deo Amante Bra BCSO01 Colour me Men Black Deo Colour Me Men Silver Deo Colour Me Women Sky Blue Deo Avirate Blue Brief nan Lakme Insta-Liner Colour Me Men Silver Deo Colour Me Men White Deo Colour Me Women Purple Deo Colour me Men Gold Deo Colour me Men Black Deo Colour me Men Green Deo Colour Me Men Silver Deo Rasasi Men Numero Due Deo Rasasi Men Numero Uno Deo nan Amante Bra BCSO01 nan nan Rasasi Men Numero Uno Deo nan nan Amante Bra BCSO01 nan nan Rasasi Men Numero Uno Deo Do u speak green Men Orange T-shirt Do u speak green Men Red T-shirt Do u speak green Women Red T-shirt Colour me Women Flowers Deo Colour me Women Red Deo nan nan Lakme Insta-Liner Colour Me Men Silver Deo Colour Me Men White Deo Colour Me Women Purple Deo Do u speak green Men Olive T-shirt Casio EDIFICE ED142 EF-503L-1AVDF Ediots T-shirt Do u speak green Boys Olive Trousers Do u speak green Men Olive Sweatshirt Colour me Men Gold Deo Colour me Men Black Deo Colour me Men Green Deo Colour Me Men Silver Deo Rasasi Men Numero Due Deo Rasasi Men Numero Uno Deo Do u speak green Men Blue T-shirt Do u speak Cream Men T-shirt Tantra T-shirt Do u speak green Men T-shirt Do U Speak Green Men Blue T-Shirt nan Do u speak green Men Olive T-shirt Casio EDIFICE ED142 EF-503L-1AVDF Ediots T-shirt Do u speak green Boys Olive Trousers Do u speak green Men Olive Sweatshirt Red Rose Pink Camisole Red Rose Red Camisole Red Rose Sky Blue Camisole Red Rose Blue Camisole Colour me Women Red Deo nan Rasasi Men Numero Uno Deo nan nan Do u speak green Men Olive T-shirt Casio EDIFICE ED142 EF-503L-1AVDF Ediots T-shirt Do u speak green Boys Olive Trousers Do u speak green Men Olive Sweatshirt nan Rasasi Men Numero Uno Deo Do u speak green Men Orange T-shirt Do u speak green Men Red T-shirt Do u speak green Women Red T-shirt Colour me Women Flowers Deo Colour me Women Red Deo nan W Women White Kurta W Women Blue Kurti W Women Blue Kurta Colour me Men Gold Deo Colour me Men Black Deo Colour me Men Green Deo Colour Me Men Silver Deo Rasasi Men Numero Due Deo Rasasi Men Numero Uno Deo Do u speak green Men Blue T-shirt Do u speak Cream Men T-shirt Tantra T-shirt Do u speak green Men T-shirt Do U Speak Green Men Blue T-Shirt nan Amante Bra BCSO01 nan W Women White Kurta W Women Blue Kurti W Women Blue Kurta nan I Dee Men Sunglasses Do u speak green Men Blue T-shirt Do u speak Cream Men T-shirt Tantra T-shirt Do u speak green Men T-shirt Do U Speak Green Men Blue T-Shirt nan Colour me Men Gold Deo Colour me Men Black Deo Colour me Men Green Deo Colour Me Men Silver Deo Rasasi Men Numero Due Deo Rasasi Men Numero Uno Deo nan Lakme Insta-Liner Colour Me Men Silver Deo Colour Me Men White Deo Colour Me Women Purple Deo Do u speak green Men Olive T-shirt Casio EDIFICE ED142 EF-503L-1AVDF Ediots T-shirt Do u speak green Boys Olive Trousers Do u speak green Men Olive Sweatshirt Colour me Men Gold Deo Colour me Men Black Deo Colour me Men Green Deo Colour Me Men Silver Deo Rasasi Men Numero Due Deo Rasasi Men Numero Uno Deo Do u speak green Men Blue T-shirt Do u speak Cream Men T-shirt Tantra T-shirt Do u speak green Men T-shirt Do U Speak Green Men Blue T-Shirt nan Do u speak green Men Olive T-shirt Casio EDIFICE ED142 EF-503L-1AVDF Ediots T-shirt Do u speak green Boys Olive Trousers Do u speak green Men Olive Sweatshirt Red Rose Pink Camisole Red Rose Red Camisole Red Rose Sky Blue Camisole Red Rose Blue Camisole Colour me Women Red Deo nan Rasasi Men Numero Uno Deo Do u speak green Men Blue T-shirt Do u speak Cream Men T-shirt Tantra T-shirt Do u speak green Men T-shirt Do U Speak Green Men Blue T-Shirt Red Rose Pink Camisole Red Rose Red Camisole Red Rose Sky Blue Camisole Red Rose Blue Camisole Colour me Women Red Deo Colour me Men Gold Deo Colour me Men Black Deo Colour me Men Green Deo Colour Me Men Silver Deo Rasasi Men Numero Due Deo Rasasi Men Numero Uno Deo nan nan nan Do u speak green Men Blue T-shirt Do u speak Cream Men T-shirt Tantra T-shirt Do u speak green Men T-shirt Do U Speak Green Men Blue T-Shirt Do u speak green Men Olive T-shirt Casio EDIFICE ED142 EF-503L-1AVDF Ediots T-shirt Do u speak green Boys Olive Trousers Do u speak green Men Olive Sweatshirt Do u speak green Men Olive T-shirt W Women Check Blue Kurtas W Women Check Navy Blue Kurtis Do u speak green Boys Olive Trousers Alma Women Orange Kurta Do u speak green Men Blue T-shirt Do u speak Cream Men T-shirt Tantra T-shirt Do u speak green Men T-shirt Do U Speak Green Men Blue T-Shirt nan Do u speak green Men Olive T-shirt Casio EDIFICE ED142 EF-503L-1AVDF Ediots T-shirt Do u speak green Boys Olive Trousers Do u speak green Men Olive Sweatshirt nan Rasasi Men Numero Uno Deo Do u speak green Men Olive T-shirt Casio EDIFICE ED142 EF-503L-1AVDF Ediots T-shirt Do u speak green Boys Olive Trousers Do u speak green Men Olive Sweatshirt Colour me Men Gold Deo Colour me Men Black Deo Colour me Men Green Deo Colour Me Men Silver Deo Rasasi Men Numero Due Deo Rasasi Men Numero Uno Deo Red Rose Pink Camisole Red Rose Red Camisole Red Rose Sky Blue Camisole Red Rose Blue Camisole Colour me Women Red Deo Do u speak green Men Olive T-shirt Casio EDIFICE ED142 EF-503L-1AVDF Ediots T-shirt Do u speak green Boys Olive Trousers Do u speak green Men Olive Sweatshirt Do u speak green Men Brown 3/4th Pant Do u speak green Men Brown T-shirt Colour me Men Green Deo Guess Women Puffy G Black Watch Colour Me Men Silver Deo Guess Women G Hype Silver Watch Do u speak green Men Olive T-shirt Casio EDIFICE ED142 EF-503L-1AVDF Ediots T-shirt Do u speak green Boys Olive Trousers Do u speak green Men Olive Sweatshirt nan Do u speak green Men Olive T-shirt Casio EDIFICE ED142 EF-503L-1AVDF Ediots T-shirt Do u speak green Boys Olive Trousers Do u speak green Men Olive Sweatshirt Red Rose Pink Camisole Red Rose Red Camisole Red Rose Sky Blue Camisole Red Rose Blue Camisole Colour me Women Red Deo Colour me Men Gold Deo Colour me Men Black Deo Colour me Men Green Deo Colour Me Men Silver Deo Rasasi Men Numero Due Deo Rasasi Men Numero Uno Deo nan Lakme Insta-Liner Colour Me Men Silver Deo Colour Me Men White Deo Colour Me Women Purple Deo nan Rasasi Men Numero Uno Deo nan Do u speak green Men Brown 3/4th Pant Do u speak green Men Brown T-shirt Colour me Men Green Deo Guess Women Puffy G Black Watch Colour Me Men Silver Deo Guess Women G Hype Silver Watch Do u speak green Men Brown 3/4th Pant Do u speak green Men Brown T-shirt Colour me Men Green Deo Guess Women Puffy G Black Watch Colour Me Men Silver Deo Guess Women G Hype Silver Watch Do u speak green Men Olive T-shirt Casio EDIFICE ED142 EF-503L-1AVDF Ediots T-shirt Do u speak green Boys Olive Trousers Do u speak green Men Olive Sweatshirt nan Rasasi Men Numero Uno Deo Do u speak green Men Blue T-shirt Do u speak Cream Men T-shirt Tantra T-shirt Do u speak green Men T-shirt Do U Speak Green Men Blue T-Shirt nan I Dee Men Sunglasses nan nan nan Rasasi Men Numero Uno Deo Colour me Men Gold Deo Colour me Men Black Deo Colour me Men Green Deo Colour Me Men Silver Deo Rasasi Men Numero Due Deo Rasasi Men Numero Uno Deo nan Colour me Women Red Deo Colour me Men Green Deo Colour Me Women Purple Deo Colour me Men Gold Deo Colour Me Women Pink Deo Colour Me Men Silver Deo nan Colour me Men Gold Deo Colour me Men Black Deo Colour me Men Green Deo Colour Me Men Silver Deo Rasasi Men Numero Due Deo Rasasi Men Numero Uno Deo nan nan Colour Me Men Silver Deo Colour Me Women Purple Deo Colour me Men Gold Deo Colour me Men Black Deo Colour me Men Green Deo Colour Me Men Silver Deo Rasasi Men Numero Due Deo Rasasi Men Numero Uno Deo Red Rose Pink Camisole Red Rose Red Camisole Red Rose Sky Blue Camisole Red Rose Blue Camisole Colour me Women Red Deo nan Colour me Women Red Deo Colour me Men Green Deo Colour Me Women Purple Deo Colour me Men Gold Deo Colour Me Women Pink Deo Colour Me Men Silver Deo Do u speak green Men Olive T-shirt Casio EDIFICE ED142 EF-503L-1AVDF Ediots T-shirt Do u speak green Boys Olive Trousers Do u speak green Men Olive Sweatshirt nan Do u speak green Men Olive T-shirt Casio EDIFICE ED142 EF-503L-1AVDF Ediots T-shirt Do u speak green Boys Olive Trousers Do u speak green Men Olive Sweatshirt nan Colour me Women Red Deo Colour me Men Green Deo Colour Me Women Purple Deo Colour me Men Gold Deo Colour Me Women Pink Deo Colour Me Men Silver Deo nan I Dee Men Sunglasses nan Do u speak green Men Brown 3/4th Pant Do u speak green Men Brown T-shirt Colour me Men Green Deo Guess Women Puffy G Black Watch Colour Me Men Silver Deo Guess Women G Hype Silver Watch nan nan nan Do u speak green Men Olive T-shirt Casio EDIFICE ED142 EF-503L-1AVDF Ediots T-shirt Do u speak green Boys Olive Trousers Do u speak green Men Olive Sweatshirt Red Rose Pink Camisole Red Rose Red Camisole Red Rose Sky Blue Camisole Red Rose Blue Camisole Colour me Women Red Deo nan Rasasi Men Numero Uno Deo nan nan Colour me Men Gold Deo Colour me Men Black Deo Colour me Men Green Deo Colour Me Men Silver Deo Rasasi Men Numero Due Deo Rasasi Men Numero Uno Deo nan Lakme Insta-Liner Colour Me Men Silver Deo Colour Me Men White Deo Colour Me Women Purple Deo nan Rasasi Men Numero Uno Deo Do u speak green Men Blue T-shirt Do u speak Cream Men T-shirt Tantra T-shirt Do u speak green Men T-shirt Do U Speak Green Men Blue T-Shirt nan nan Lakme Insta-Liner Colour Me Men Silver Deo Colour Me Men White Deo Colour Me Women Purple Deo Do u speak green Men Olive T-shirt Casio EDIFICE ED142 EF-503L-1AVDF Ediots T-shirt Do u speak green Boys Olive Trousers Do u speak green Men Olive Sweatshirt Colour me Men Gold Deo Colour me Men Black Deo Colour me Men Green Deo Colour Me Men Silver Deo Rasasi Men Numero Due Deo Rasasi Men Numero Uno Deo nan Colour me Women Red Deo Colour me Men Green Deo Colour Me Women Purple Deo Colour me Men Gold Deo Colour Me Women Pink Deo Colour Me Men Silver Deo nan Amante Bra BCSO01 nan nan nan Colour me Men Gold Deo Colour me Men Black Deo Colour me Men Green Deo Colour Me Men Silver Deo Rasasi Men Numero Due Deo Rasasi Men Numero Uno Deo nan nan nan Amante Bra BCSO01 nan nan Lakme Insta-Liner Colour Me Men Silver Deo Colour Me Men White Deo Colour Me Women Purple Deo Do u speak green Men Blue T-shirt Do u speak Cream Men T-shirt Tantra T-shirt Do u speak green Men T-shirt Do U Speak Green Men Blue T-Shirt nan Red Rose Pink Camisole Red Rose Red Camisole Red Rose Sky Blue Camisole Red Rose Blue Camisole Colour me Women Red Deo Do u speak green Men Olive T-shirt Casio EDIFICE ED142 EF-503L-1AVDF Ediots T-shirt Do u speak green Boys Olive Trousers Do u speak green Men Olive Sweatshirt Colour Me Men Silver Deo Colour me Men Gold Deo Nike Men's Quoted Black T-shirt Colour me Men Black Deo Vans Men Rowley Rasasi Men Numero Due Deo\n",
      "Answer:\u001b[32m Based on the products you've listed, here are some styling advice:\n",
      "\n",
      "**Casual Outfit**\n",
      "\n",
      "* Pair Do U Speak Green Boys Olive Trousers with a matching olive green t-shirt (Do u speak green Men Olive T-shirt) and sneakers for a relaxed look.\n",
      "* Add a pop of color with Red Rose Pink Camisole or any other camisole from the collection.\n",
      "\n",
      "**Smart Casual**\n",
      "\n",
      "* Combine Do U Speak Green Men Blue T-shirt with Vans Men Rowley shoes and dark wash jeans for a stylish, everyday outfit.\n",
      "* Accessorize with Colour Me Men Silver Deo to add some shine to your look.\n",
      "\n",
      "**Formal Occasion**\n",
      "\n",
      "* Go classic with Nike Men's Quoted Black T-shirt paired with formal trousers (Do u speak green Boys Olive Trousers) and dress shoes.\n",
      "* Add a touch of sophistication with Rasasi Men Numero Due Deo or Colour Me Women Purple Deo for a stylish fragrance.\n",
      "\n",
      "**Layering**\n",
      "\n",
      "* Layer Do U Speak Green Men Olive Sweatshirt over a plain white t-shirt (Tantra T-shirt) for a cozy, casual look.\n",
      "* Use Lakme Insta-Liner to add some definition to your brows and enhance your features.\n",
      "\n",
      "Remember, these are just suggestions based on the products you've listed. Feel free to experiment with different combinations that reflect your personal style!\u001b[0m\n",
      "\n",
      "\n",
      "\n"
     ]
    },
    {
     "data": {
      "text/plain": [
       "\"\\n\\n\\nList of extracted clothing items and accessories\\n\\n---\\n\\nFollow the following format.\\n\\nPrompt: ${prompt}\\nTerms: ['$', '{', 't', 'e', 'r', 'm', 's', '}']\\n\\n---\\n\\nPrompt: Return a list of clothing items and accesores to be worn by a user, given their preferencesPreferences: party wear\\nTerms: []\\x1b[32m Here is the extracted list of clothing items and accessories:\\n\\n**Party Wear**\\n\\n* Sequined dress\\n* High heels (black or red)\\n* Statement necklace with rhinestones\\n* Earrings with dangling crystals\\n* Sparkly clutch purse (silver or gold)\\n* Cocktail ring with gemstones\\x1b[0m\\n\\n\\n\\n\\n\\nList of extracted clothing items and accessories\\n\\n---\\n\\nFollow the following format.\\n\\nPrompt: ${prompt}\\nTerms: ['$', '{', 't', 'e', 'r', 'm', 's', '}']\\n\\n---\\n\\nPrompt: Return a list of clothing items and accesores to be worn by a user, given their preferencesPreferences: Corporate Award Ceremony\\nTerms: []\\x1b[32m Here is the extracted list of clothing items and accessories:\\n\\n**Corporate Award Ceremony**\\n\\n* Suit (black or navy blue)\\n* Dress shirt (white or light-colored)\\n* Tie (patterned or simple design)\\n* Blazer (optional, but recommended for added professionalism)\\n* Formal trousers\\n* Black socks\\n* Leather shoes\\n* Watch with a leather strap\\n\\nNote: These are general suggestions and may vary depending on personal style and company culture.\\x1b[0m\\n\\n\\n\\n\\n\\nGenerate styling advise, given these products\\n\\n---\\n\\nFollow the following format.\\n\\nProducts: ${products}\\nAnswer: ${answer}\\n\\n---\\n\\nProducts: nan Do u speak green Men Olive T-shirt Casio EDIFICE ED142 EF-503L-1AVDF Ediots T-shirt Do u speak green Boys Olive Trousers Do u speak green Men Olive Sweatshirt Red Rose Pink Camisole Red Rose Red Camisole Red Rose Sky Blue Camisole Red Rose Blue Camisole Colour me Women Red Deo Do u speak green Men Olive T-shirt Casio EDIFICE ED142 EF-503L-1AVDF Ediots T-shirt Do u speak green Boys Olive Trousers Do u speak green Men Olive Sweatshirt nan I Dee Men Sunglasses nan Rasasi Men Numero Uno Deo Do u speak green Men Blue T-shirt Do u speak Cream Men T-shirt Tantra T-shirt Do u speak green Men T-shirt Do U Speak Green Men Blue T-Shirt nan Do u speak green Men Olive T-shirt Casio EDIFICE ED142 EF-503L-1AVDF Ediots T-shirt Do u speak green Boys Olive Trousers Do u speak green Men Olive Sweatshirt Do u speak green Men Olive T-shirt Casio EDIFICE ED142 EF-503L-1AVDF Ediots T-shirt Do u speak green Boys Olive Trousers Do u speak green Men Olive Sweatshirt Hugo Boss XY Men Deo Reebok Unisex Reezoom Deo Converse Unisex Mono Black Canvas Colour Me Men Silver Deo Hugo Men Element Deo Prafful Multi Coloured Sari Do u speak green Men Blue T-shirt Do u speak Cream Men T-shirt Tantra T-shirt Do u speak green Men T-shirt Do U Speak Green Men Blue T-Shirt Red Rose Pink Camisole Red Rose Red Camisole Red Rose Sky Blue Camisole Red Rose Blue Camisole Colour me Women Red Deo Colour me Men Gold Deo Colour me Men Black Deo Colour me Men Green Deo Colour Me Men Silver Deo Rasasi Men Numero Due Deo Rasasi Men Numero Uno Deo nan Amante Bra BCSO01 Do u speak green Men Blue T-shirt Do u speak Cream Men T-shirt Tantra T-shirt Do u speak green Men T-shirt Do U Speak Green Men Blue T-Shirt Do u speak green Men Olive T-shirt Casio EDIFICE ED142 EF-503L-1AVDF Ediots T-shirt Do u speak green Boys Olive Trousers Do u speak green Men Olive Sweatshirt Colour me Women Red Deo Colour me Men Green Deo Colour Me Women Purple Deo Colour me Men Gold Deo Colour Me Women Pink Deo Colour Me Men Silver Deo nan Lakme Insta-Liner Colour Me Men Silver Deo Colour Me Men White Deo Colour Me Women Purple Deo nan I Dee Men Sunglasses nan Rasasi Men Numero Uno Deo Do u speak green Men Blue T-shirt Do u speak Cream Men T-shirt Tantra T-shirt Do u speak green Men T-shirt Do U Speak Green Men Blue T-Shirt nan FNF Pink Sari FNF Orange Printed Sari FNF Orange & Purple Sari nan Amante Bra BCSO01 nan Lakme Insta-Liner Colour Me Men Silver Deo Colour Me Men White Deo Colour Me Women Purple Deo nan Do u speak green Men Blue T-shirt Do u speak Cream Men T-shirt Tantra T-shirt Do u speak green Men T-shirt Do U Speak Green Men Blue T-Shirt nan nan I Dee Men Sunglasses nan Do u speak green Men Brown 3/4th Pant Do u speak green Men Brown T-shirt Colour me Men Green Deo Guess Women Puffy G Black Watch Colour Me Men Silver Deo Guess Women G Hype Silver Watch nan I Dee Men Sunglasses Do u speak green Men Blue T-shirt Do u speak Cream Men T-shirt Tantra T-shirt Do u speak green Men T-shirt Do U Speak Green Men Blue T-Shirt Do u speak green Men Olive T-shirt Casio EDIFICE ED142 EF-503L-1AVDF Ediots T-shirt Do u speak green Boys Olive Trousers Do u speak green Men Olive Sweatshirt nan nan Rasasi Men Numero Uno Deo Colour me Men Gold Deo Colour me Men Black Deo Colour me Men Green Deo Colour Me Men Silver Deo Rasasi Men Numero Due Deo Rasasi Men Numero Uno Deo nan Colour me Women Red Deo Colour me Men Green Deo Colour Me Women Purple Deo Colour me Men Gold Deo Colour Me Women Pink Deo Colour Me Men Silver Deo Colour me Men Gold Deo Colour me Men Black Deo Colour me Men Green Deo Colour Me Men Silver Deo Rasasi Men Numero Due Deo Rasasi Men Numero Uno Deo nan Amante Bra BCSO01 nan Amante Bra BCSO01 Do u speak green Men Olive T-shirt Casio EDIFICE ED142 EF-503L-1AVDF Ediots T-shirt Do u speak green Boys Olive Trousers Do u speak green Men Olive Sweatshirt nan Rasasi Men Numero Uno Deo nan Rasasi Men Numero Uno Deo nan Red Rose Pink Camisole Red Rose Red Camisole Red Rose Sky Blue Camisole Red Rose Blue Camisole Colour me Women Red Deo nan I Dee Men Sunglasses Do u speak green Men Olive T-shirt Casio EDIFICE ED142 EF-503L-1AVDF Ediots T-shirt Do u speak green Boys Olive Trousers Do u speak green Men Olive Sweatshirt nan Rasasi Men Numero Uno Deo Do u speak green Men Olive T-shirt W Women Check Blue Kurtas W Women Check Navy Blue Kurtis Do u speak green Boys Olive Trousers Alma Women Orange Kurta Do u speak green Men Orange T-shirt Do u speak green Men Red T-shirt Do u speak green Women Red T-shirt Colour me Women Flowers Deo Colour me Women Red Deo nan Do u speak green Men Orange T-shirt Do u speak green Men Red T-shirt Do u speak green Women Red T-shirt Colour me Women Flowers Deo Colour me Women Red Deo nan nan Amante Bra BCSO01 nan Red Rose Pink Camisole Red Rose Red Camisole Red Rose Sky Blue Camisole Red Rose Blue Camisole Colour me Women Red Deo nan nan Red Rose Pink Camisole Red Rose Red Camisole Red Rose Sky Blue Camisole Red Rose Blue Camisole Colour me Women Red Deo Colour me Men Gold Deo Colour me Men Black Deo Colour me Men Green Deo Colour Me Men Silver Deo Rasasi Men Numero Due Deo Rasasi Men Numero Uno Deo Do u speak green Men Blue T-shirt Do u speak Cream Men T-shirt Tantra T-shirt Do u speak green Men T-shirt Do U Speak Green Men Blue T-Shirt Do u speak green Men Olive T-shirt Casio EDIFICE ED142 EF-503L-1AVDF Ediots T-shirt Do u speak green Boys Olive Trousers Do u speak green Men Olive Sweatshirt Colour me Men Gold Deo Colour me Men Black Deo Colour me Men Green Deo Colour Me Men Silver Deo Rasasi Men Numero Due Deo Rasasi Men Numero Uno Deo W Women White Kurta W Women Blue Kurti W Women Blue Kurta Colour me Men Gold Deo Colour me Men Black Deo Colour me Men Green Deo Colour Me Men Silver Deo Rasasi Men Numero Due Deo Rasasi Men Numero Uno Deo Red Rose Pink Camisole Red Rose Red Camisole Red Rose Sky Blue Camisole Red Rose Blue Camisole Colour me Women Red Deo Colour me Women Red Deo Colour me Men Green Deo Colour Me Women Purple Deo Colour me Men Gold Deo Colour Me Women Pink Deo Colour Me Men Silver Deo nan Amante Bra BCSO01 Do u speak green Men Olive T-shirt Casio EDIFICE ED142 EF-503L-1AVDF Ediots T-shirt Do u speak green Boys Olive Trousers Do u speak green Men Olive Sweatshirt Red Rose Pink Camisole Red Rose Red Camisole Red Rose Sky Blue Camisole Red Rose Blue Camisole Colour me Women Red Deo Do u speak green Men Olive T-shirt Casio EDIFICE ED142 EF-503L-1AVDF Ediots T-shirt Do u speak green Boys Olive Trousers Do u speak green Men Olive Sweatshirt nan nan nan nan Do u speak green Men Orange T-shirt Do u speak green Men Red T-shirt Do u speak green Women Red T-shirt Colour me Women Flowers Deo Colour me Women Red Deo nan Do u speak green Men Orange T-shirt Do u speak green Men Red T-shirt Do u speak green Women Red T-shirt Colour me Women Flowers Deo Colour me Women Red Deo nan Do u speak green Men Orange T-shirt Do u speak green Men Red T-shirt Do u speak green Women Red T-shirt Colour me Women Flowers Deo Colour me Women Red Deo nan nan Rasasi Men Numero Uno Deo nan nan I Dee Men Sunglasses Do u speak green Men Blue T-shirt Do u speak Cream Men T-shirt Tantra T-shirt Do u speak green Men T-shirt Do U Speak Green Men Blue T-Shirt Colour me Women Red Deo Do u speak green Men Red T-shirt Colour me Women Flowers Deo Do u speak green Men Orange T-shirt Colour me Men Black Deo Do u speak green Women Red T-shirt Colour me Men Blue Deo Amante Bra BCSO01 Colour me Men Black Deo Colour Me Men Silver Deo Colour Me Women Sky Blue Deo Avirate Blue Brief nan Lakme Insta-Liner Colour Me Men Silver Deo Colour Me Men White Deo Colour Me Women Purple Deo Colour me Men Gold Deo Colour me Men Black Deo Colour me Men Green Deo Colour Me Men Silver Deo Rasasi Men Numero Due Deo Rasasi Men Numero Uno Deo nan Amante Bra BCSO01 nan nan Red Rose Pink Camisole Red Rose Red Camisole Red Rose Sky Blue Camisole Red Rose Blue Camisole Colour me Women Red Deo nan Colour me Men Gold Deo Colour me Men Black Deo Colour me Men Green Deo Colour Me Men Silver Deo Rasasi Men Numero Due Deo Rasasi Men Numero Uno Deo nan Colour Me Men Silver Deo Colour Me Women Purple Deo nan Colour me Men Blue Deo Amante Bra BCSO01 Colour me Men Black Deo Colour Me Men Silver Deo Colour Me Women Sky Blue Deo Avirate Blue Brief nan Lakme Insta-Liner Colour Me Men Silver Deo Colour Me Men White Deo Colour Me Women Purple Deo nan Do u speak green Men Olive T-shirt Casio EDIFICE ED142 EF-503L-1AVDF Ediots T-shirt Do u speak green Boys Olive Trousers Do u speak green Men Olive Sweatshirt Do u speak Cream Men T-shirt Do u speak green Men Red T-shirt Do u speak green Men Brown T-shirt Do u speak green Men Orange T-shirt Do U Speak Green Men Beige T-Shirt Do u speak green Men Beige T-shirt Do u speak green Men Orange T-shirt Do u speak green Men Red T-shirt Do u speak green Women Red T-shirt Colour me Women Flowers Deo Colour me Women Red Deo nan Colour me Women Red Deo Colour me Men Green Deo Colour Me Women Purple Deo Colour me Men Gold Deo Colour Me Women Pink Deo Colour Me Men Silver Deo Red Rose Pink Camisole Red Rose Red Camisole Red Rose Sky Blue Camisole Red Rose Blue Camisole Colour me Women Red Deo Do u speak green Men Olive T-shirt Casio EDIFICE ED142 EF-503L-1AVDF Ediots T-shirt Do u speak green Boys Olive Trousers Do u speak green Men Olive Sweatshirt nan Rasasi Men Numero Uno Deo nan Rasasi Men Numero Uno Deo nan Rasasi Men Numero Uno Deo nan nan I Dee Men Sunglasses Red Rose Pink Camisole Red Rose Red Camisole Red Rose Sky Blue Camisole Red Rose Blue Camisole Colour me Women Red Deo Do u speak green Men Blue T-shirt Do u speak Cream Men T-shirt Tantra T-shirt Do u speak green Men T-shirt Do U Speak Green Men Blue T-Shirt Colour me Women Red Deo Do u speak green Men Red T-shirt Colour me Women Flowers Deo Do u speak green Men Orange T-shirt Colour me Men Black Deo Do u speak green Women Red T-shirt W Women White Kurta W Women Blue Kurti W Women Blue Kurta nan nan I Dee Men Sunglasses Do u speak green Men Blue T-shirt Do u speak Cream Men T-shirt Tantra T-shirt Do u speak green Men T-shirt Do U Speak Green Men Blue T-Shirt Do u speak green Men Olive T-shirt Casio EDIFICE ED142 EF-503L-1AVDF Ediots T-shirt Do u speak green Boys Olive Trousers Do u speak green Men Olive Sweatshirt nan Red Rose Pink Camisole Red Rose Red Camisole Red Rose Sky Blue Camisole Red Rose Blue Camisole Colour me Women Red Deo nan Lakme Insta-Liner Colour Me Men Silver Deo Colour Me Men White Deo Colour Me Women Purple Deo nan I Dee Men Sunglasses Do u speak green Men Brown 3/4th Pant Do u speak green Men Brown T-shirt Colour me Men Green Deo Guess Women Puffy G Black Watch Colour Me Men Silver Deo Guess Women G Hype Silver Watch nan Do u speak green Men Blue T-shirt Do u speak Cream Men T-shirt Tantra T-shirt Do u speak green Men T-shirt Do U Speak Green Men Blue T-Shirt Do u speak green Men Olive T-shirt W Women Check Blue Kurtas Aneri Women Ada Multi Kurta W Women Check Navy Blue Kurtis Do u speak green Women Peach T-shirt nan Amante Bra BCSO01 nan nan Lakme Insta-Liner Colour Me Men Silver Deo Colour Me Men White Deo Colour Me Women Purple Deo nan Red Rose Pink Camisole Red Rose Red Camisole Red Rose Sky Blue Camisole Red Rose Blue Camisole Colour me Women Red Deo Do u speak green Men Olive T-shirt Casio EDIFICE ED142 EF-503L-1AVDF Ediots T-shirt Do u speak green Boys Olive Trousers Do u speak green Men Olive Sweatshirt Colour me Women Red Deo Colour me Men Green Deo Colour Me Women Purple Deo Colour me Men Gold Deo Colour Me Women Pink Deo Colour Me Men Silver Deo Do u speak Cream Men T-shirt Do u speak green Men Red T-shirt Do u speak green Men Brown T-shirt Do u speak green Men Orange T-shirt Do U Speak Green Men Beige T-Shirt Do u speak green Men Beige T-shirt Do u speak green Men Orange T-shirt Do u speak green Men Red T-shirt Do u speak green Women Red T-shirt Colour me Women Flowers Deo Colour me Women Red Deo nan Do u speak green Men Blue T-shirt Do u speak Cream Men T-shirt Tantra T-shirt Do u speak green Men T-shirt Do U Speak Green Men Blue T-Shirt nan I Dee Men Sunglasses Do u speak green Men Olive T-shirt Casio EDIFICE ED142 EF-503L-1AVDF Ediots T-shirt Do u speak green Boys Olive Trousers Do u speak green Men Olive Sweatshirt Colour me Women Red Deo Do u speak green Men Red T-shirt Colour me Women Flowers Deo Do u speak green Men Orange T-shirt Colour me Men Black Deo Do u speak green Women Red T-shirt nan Colour me Men Gold Deo Colour me Men Black Deo Colour me Men Green Deo Colour Me Men Silver Deo Rasasi Men Numero Due Deo Rasasi Men Numero Uno Deo Do u speak green Men Blue T-shirt Do u speak Cream Men T-shirt Tantra T-shirt Do u speak green Men T-shirt Do U Speak Green Men Blue T-Shirt Do u speak green Men Blue T-shirt Do u speak Cream Men T-shirt Tantra T-shirt Do u speak green Men T-shirt Do U Speak Green Men Blue T-Shirt Do u speak green Men Olive T-shirt Casio EDIFICE ED142 EF-503L-1AVDF Ediots T-shirt Do u speak green Boys Olive Trousers Do u speak green Men Olive Sweatshirt Red Rose Pink Camisole Red Rose Red Camisole Red Rose Sky Blue Camisole Red Rose Blue Camisole Colour me Women Red Deo nan Do u speak green Men Olive T-shirt Casio EDIFICE ED142 EF-503L-1AVDF Ediots T-shirt Do u speak green Boys Olive Trousers Do u speak green Men Olive Sweatshirt Colour me Women Red Deo Colour me Men Green Deo Colour Me Women Purple Deo Colour me Men Gold Deo Colour Me Women Pink Deo Colour Me Men Silver Deo nan Red Rose Pink Camisole Red Rose Red Camisole Red Rose Sky Blue Camisole Red Rose Blue Camisole Colour me Women Red Deo nan Rasasi Men Numero Uno Deo nan I Dee Men Sunglasses nan nan nan Lakme Insta-Liner Colour Me Men Silver Deo Colour Me Men White Deo Colour Me Women Purple Deo Do u speak green Men Olive T-shirt Casio EDIFICE ED142 EF-503L-1AVDF Ediots T-shirt Do u speak green Boys Olive Trousers Do u speak green Men Olive Sweatshirt Colour me Women Red Deo Colour me Men Green Deo Colour Me Women Purple Deo Colour me Men Gold Deo Colour Me Women Pink Deo Colour Me Men Silver Deo Do u speak green Men Olive T-shirt Casio EDIFICE ED142 EF-503L-1AVDF Ediots T-shirt Do u speak green Boys Olive Trousers Do u speak green Men Olive Sweatshirt nan Rasasi Men Numero Uno Deo nan I Dee Men Sunglasses Do u speak green Men Brown 3/4th Pant Do u speak green Men Brown T-shirt Colour me Men Green Deo Guess Women Puffy G Black Watch Colour Me Men Silver Deo Guess Women G Hype Silver Watch nan Do u speak Cream Men T-shirt Do u speak green Men Red T-shirt Do u speak green Men Brown T-shirt Do u speak green Men Orange T-shirt Do U Speak Green Men Beige T-Shirt Do u speak green Men Beige T-shirt Do u speak green Men Orange T-shirt Do u speak green Men Red T-shirt Do u speak green Women Red T-shirt Colour me Women Flowers Deo Colour me Women Red Deo nan Colour me Men Blue Deo Amante Bra BCSO01 Colour me Men Black Deo Colour Me Men Silver Deo Colour Me Women Sky Blue Deo Avirate Blue Brief nan Lakme Insta-Liner Colour Me Men Silver Deo Colour Me Men White Deo Colour Me Women Purple Deo Colour me Men Gold Deo Colour me Men Black Deo Colour me Men Green Deo Colour Me Men Silver Deo Rasasi Men Numero Due Deo Rasasi Men Numero Uno Deo nan Colour Me Men Silver Deo Do u speak green Men Olive T-shirt Casio EDIFICE ED142 EF-503L-1AVDF Ediots T-shirt Do u speak green Boys Olive Trousers Do u speak green Men Olive Sweatshirt Red Rose Pink Camisole Red Rose Red Camisole Red Rose Sky Blue Camisole Red Rose Blue Camisole Colour me Women Red Deo Colour me Women Red Deo Do u speak green Men Red T-shirt Colour me Women Flowers Deo Do u speak green Men Orange T-shirt Colour me Men Black Deo Do u speak green Women Red T-shirt nan nan Do u speak green Men Blue T-shirt Do u speak Cream Men T-shirt Tantra T-shirt Do u speak green Men T-shirt Do U Speak Green Men Blue T-Shirt nan I Dee Men Sunglasses nan nan Colour me Men Gold Deo Colour me Men Black Deo Colour me Men Green Deo Colour Me Men Silver Deo Rasasi Men Numero Due Deo Rasasi Men Numero Uno Deo nan Lakme Insta-Liner Colour Me Men Silver Deo Colour Me Men White Deo Colour Me Women Purple Deo I Dee Men Sunglasses AND Women Grey Dress Colour me Men Green Deo Colour me Men Black Deo Colour Me Men Silver Deo Colour me Men Gold Deo Colour me Men Blue Deo Amante Bra BCSO01 Colour me Men Black Deo Colour Me Men Silver Deo Colour Me Women Sky Blue Deo Avirate Blue Brief nan Do u speak green Men Blue T-shirt Do u speak Cream Men T-shirt Tantra T-shirt Do u speak green Men T-shirt Do U Speak Green Men Blue T-Shirt Red Rose Pink Camisole Red Rose Red Camisole Red Rose Sky Blue Camisole Red Rose Blue Camisole Colour me Women Red Deo Do u speak green Men Olive T-shirt Casio EDIFICE ED142 EF-503L-1AVDF Ediots T-shirt Do u speak green Boys Olive Trousers Do u speak green Men Olive Sweatshirt nan Amante Bra BCSO01 nan nan nan Do u speak green Men Olive T-shirt Casio EDIFICE ED142 EF-503L-1AVDF Ediots T-shirt Do u speak green Boys Olive Trousers Do u speak green Men Olive Sweatshirt nan Colour me Women Red Deo Colour me Men Green Deo Colour Me Women Purple Deo Colour me Men Gold Deo Colour Me Women Pink Deo Colour Me Men Silver Deo Do u speak green Men Olive T-shirt Casio EDIFICE ED142 EF-503L-1AVDF Ediots T-shirt Do u speak green Boys Olive Trousers Do u speak green Men Olive Sweatshirt Colour me Women Red Deo Colour me Men Green Deo Colour Me Women Purple Deo Colour me Men Gold Deo Colour Me Women Pink Deo Colour Me Men Silver Deo FNF Pink Sari FNF Orange Printed Sari FNF Orange & Purple Sari nan Red Rose Pink Camisole Red Rose Red Camisole Red Rose Sky Blue Camisole Red Rose Blue Camisole Colour me Women Red Deo Colour me Men Gold Deo Colour me Men Black Deo Colour me Men Green Deo Colour Me Men Silver Deo Rasasi Men Numero Due Deo Rasasi Men Numero Uno Deo Colour me Women Red Deo Colour me Men Green Deo Colour Me Women Purple Deo Colour me Men Gold Deo Colour Me Women Pink Deo Colour Me Men Silver Deo Colour me Women Red Deo Colour me Men Green Deo Colour Me Women Purple Deo Colour me Men Gold Deo Colour Me Women Pink Deo Colour Me Men Silver Deo Do u speak green Men Olive T-shirt Casio EDIFICE ED142 EF-503L-1AVDF Ediots T-shirt Do u speak green Boys Olive Trousers Do u speak green Men Olive Sweatshirt Colour me Women Red Deo Colour me Men Green Deo Colour Me Women Purple Deo Colour me Men Gold Deo Colour Me Women Pink Deo Colour Me Men Silver Deo nan Red Rose Pink Camisole Red Rose Red Camisole Red Rose Sky Blue Camisole Red Rose Blue Camisole Colour me Women Red Deo nan FNF Pink Sari FNF Orange Printed Sari FNF Orange & Purple Sari Do u speak green Men Olive T-shirt Casio EDIFICE ED142 EF-503L-1AVDF Ediots T-shirt Do u speak green Boys Olive Trousers Do u speak green Men Olive Sweatshirt nan Rasasi Men Numero Uno Deo nan Rasasi Men Numero Uno Deo nan I Dee Men Sunglasses nan nan Colour me Men Gold Deo Colour me Men Black Deo Colour me Men Green Deo Colour Me Men Silver Deo Rasasi Men Numero Due Deo Rasasi Men Numero Uno Deo nan Lakme Insta-Liner Colour Me Men Silver Deo Colour Me Men White Deo Colour Me Women Purple Deo nan I Dee Men Sunglasses nan Rasasi Men Numero Uno Deo nan Do u speak Cream Men T-shirt Do u speak green Men Red T-shirt Do u speak green Men Brown T-shirt Do u speak green Men Orange T-shirt Do U Speak Green Men Beige T-Shirt Do u speak green Men Beige T-shirt Do u speak green Men Orange T-shirt Do u speak green Men Red T-shirt Do u speak green Women Red T-shirt Colour me Women Flowers Deo Colour me Women Red Deo nan FNF Pink Sari FNF Orange Printed Sari FNF Orange & Purple Sari nan Red Rose Pink Camisole Red Rose Red Camisole Red Rose Sky Blue Camisole Red Rose Blue Camisole Colour me Women Red Deo nan Colour me Men Gold Deo Colour me Men Black Deo Colour me Men Green Deo Colour Me Men Silver Deo Rasasi Men Numero Due Deo Rasasi Men Numero Uno Deo nan Lakme Insta-Liner Colour Me Men Silver Deo Colour Me Men White Deo Colour Me Women Purple Deo Do u speak green Men Blue T-shirt Do u speak Cream Men T-shirt Tantra T-shirt Do u speak green Men T-shirt Do U Speak Green Men Blue T-Shirt Red Rose Pink Camisole Red Rose Red Camisole Red Rose Sky Blue Camisole Red Rose Blue Camisole Colour me Women Red Deo nan nan nan Rasasi Men Numero Uno Deo Do u speak green Men Olive T-shirt Casio EDIFICE ED142 EF-503L-1AVDF Ediots T-shirt Do u speak green Boys Olive Trousers Do u speak green Men Olive Sweatshirt Red Rose Pink Camisole Red Rose Red Camisole Red Rose Sky Blue Camisole Red Rose Blue Camisole Colour me Women Red Deo nan Rasasi Men Numero Uno Deo Do u speak green Men Orange T-shirt Do u speak green Men Red T-shirt Do u speak green Women Red T-shirt Colour me Women Flowers Deo Colour me Women Red Deo nan Colour me Men Blue Deo Amante Bra BCSO01 Colour me Men Black Deo Colour Me Men Silver Deo Colour Me Women Sky Blue Deo Avirate Blue Brief nan Lakme Insta-Liner Colour Me Men Silver Deo Colour Me Men White Deo Colour Me Women Purple Deo Colour me Men Gold Deo Colour me Men Black Deo Colour me Men Green Deo Colour Me Men Silver Deo Rasasi Men Numero Due Deo Rasasi Men Numero Uno Deo nan Amante Bra BCSO01 nan nan Rasasi Men Numero Uno Deo nan nan Amante Bra BCSO01 nan nan Rasasi Men Numero Uno Deo Do u speak green Men Orange T-shirt Do u speak green Men Red T-shirt Do u speak green Women Red T-shirt Colour me Women Flowers Deo Colour me Women Red Deo nan nan Lakme Insta-Liner Colour Me Men Silver Deo Colour Me Men White Deo Colour Me Women Purple Deo Do u speak green Men Olive T-shirt Casio EDIFICE ED142 EF-503L-1AVDF Ediots T-shirt Do u speak green Boys Olive Trousers Do u speak green Men Olive Sweatshirt Colour me Men Gold Deo Colour me Men Black Deo Colour me Men Green Deo Colour Me Men Silver Deo Rasasi Men Numero Due Deo Rasasi Men Numero Uno Deo Do u speak green Men Blue T-shirt Do u speak Cream Men T-shirt Tantra T-shirt Do u speak green Men T-shirt Do U Speak Green Men Blue T-Shirt nan Do u speak green Men Olive T-shirt Casio EDIFICE ED142 EF-503L-1AVDF Ediots T-shirt Do u speak green Boys Olive Trousers Do u speak green Men Olive Sweatshirt Red Rose Pink Camisole Red Rose Red Camisole Red Rose Sky Blue Camisole Red Rose Blue Camisole Colour me Women Red Deo nan Rasasi Men Numero Uno Deo nan nan Do u speak green Men Olive T-shirt Casio EDIFICE ED142 EF-503L-1AVDF Ediots T-shirt Do u speak green Boys Olive Trousers Do u speak green Men Olive Sweatshirt nan Rasasi Men Numero Uno Deo Do u speak green Men Orange T-shirt Do u speak green Men Red T-shirt Do u speak green Women Red T-shirt Colour me Women Flowers Deo Colour me Women Red Deo nan W Women White Kurta W Women Blue Kurti W Women Blue Kurta Colour me Men Gold Deo Colour me Men Black Deo Colour me Men Green Deo Colour Me Men Silver Deo Rasasi Men Numero Due Deo Rasasi Men Numero Uno Deo Do u speak green Men Blue T-shirt Do u speak Cream Men T-shirt Tantra T-shirt Do u speak green Men T-shirt Do U Speak Green Men Blue T-Shirt nan Amante Bra BCSO01 nan W Women White Kurta W Women Blue Kurti W Women Blue Kurta nan I Dee Men Sunglasses Do u speak green Men Blue T-shirt Do u speak Cream Men T-shirt Tantra T-shirt Do u speak green Men T-shirt Do U Speak Green Men Blue T-Shirt nan Colour me Men Gold Deo Colour me Men Black Deo Colour me Men Green Deo Colour Me Men Silver Deo Rasasi Men Numero Due Deo Rasasi Men Numero Uno Deo nan Lakme Insta-Liner Colour Me Men Silver Deo Colour Me Men White Deo Colour Me Women Purple Deo Do u speak green Men Olive T-shirt Casio EDIFICE ED142 EF-503L-1AVDF Ediots T-shirt Do u speak green Boys Olive Trousers Do u speak green Men Olive Sweatshirt Colour me Men Gold Deo Colour me Men Black Deo Colour me Men Green Deo Colour Me Men Silver Deo Rasasi Men Numero Due Deo Rasasi Men Numero Uno Deo Do u speak green Men Blue T-shirt Do u speak Cream Men T-shirt Tantra T-shirt Do u speak green Men T-shirt Do U Speak Green Men Blue T-Shirt nan Do u speak green Men Olive T-shirt Casio EDIFICE ED142 EF-503L-1AVDF Ediots T-shirt Do u speak green Boys Olive Trousers Do u speak green Men Olive Sweatshirt Red Rose Pink Camisole Red Rose Red Camisole Red Rose Sky Blue Camisole Red Rose Blue Camisole Colour me Women Red Deo nan Rasasi Men Numero Uno Deo Do u speak green Men Blue T-shirt Do u speak Cream Men T-shirt Tantra T-shirt Do u speak green Men T-shirt Do U Speak Green Men Blue T-Shirt Red Rose Pink Camisole Red Rose Red Camisole Red Rose Sky Blue Camisole Red Rose Blue Camisole Colour me Women Red Deo Colour me Men Gold Deo Colour me Men Black Deo Colour me Men Green Deo Colour Me Men Silver Deo Rasasi Men Numero Due Deo Rasasi Men Numero Uno Deo nan nan nan Do u speak green Men Blue T-shirt Do u speak Cream Men T-shirt Tantra T-shirt Do u speak green Men T-shirt Do U Speak Green Men Blue T-Shirt Do u speak green Men Olive T-shirt Casio EDIFICE ED142 EF-503L-1AVDF Ediots T-shirt Do u speak green Boys Olive Trousers Do u speak green Men Olive Sweatshirt Do u speak green Men Olive T-shirt W Women Check Blue Kurtas W Women Check Navy Blue Kurtis Do u speak green Boys Olive Trousers Alma Women Orange Kurta Do u speak green Men Blue T-shirt Do u speak Cream Men T-shirt Tantra T-shirt Do u speak green Men T-shirt Do U Speak Green Men Blue T-Shirt nan Do u speak green Men Olive T-shirt Casio EDIFICE ED142 EF-503L-1AVDF Ediots T-shirt Do u speak green Boys Olive Trousers Do u speak green Men Olive Sweatshirt nan Rasasi Men Numero Uno Deo Do u speak green Men Olive T-shirt Casio EDIFICE ED142 EF-503L-1AVDF Ediots T-shirt Do u speak green Boys Olive Trousers Do u speak green Men Olive Sweatshirt Colour me Men Gold Deo Colour me Men Black Deo Colour me Men Green Deo Colour Me Men Silver Deo Rasasi Men Numero Due Deo Rasasi Men Numero Uno Deo Red Rose Pink Camisole Red Rose Red Camisole Red Rose Sky Blue Camisole Red Rose Blue Camisole Colour me Women Red Deo Do u speak green Men Olive T-shirt Casio EDIFICE ED142 EF-503L-1AVDF Ediots T-shirt Do u speak green Boys Olive Trousers Do u speak green Men Olive Sweatshirt Do u speak green Men Brown 3/4th Pant Do u speak green Men Brown T-shirt Colour me Men Green Deo Guess Women Puffy G Black Watch Colour Me Men Silver Deo Guess Women G Hype Silver Watch Do u speak green Men Olive T-shirt Casio EDIFICE ED142 EF-503L-1AVDF Ediots T-shirt Do u speak green Boys Olive Trousers Do u speak green Men Olive Sweatshirt nan Do u speak green Men Olive T-shirt Casio EDIFICE ED142 EF-503L-1AVDF Ediots T-shirt Do u speak green Boys Olive Trousers Do u speak green Men Olive Sweatshirt Red Rose Pink Camisole Red Rose Red Camisole Red Rose Sky Blue Camisole Red Rose Blue Camisole Colour me Women Red Deo Colour me Men Gold Deo Colour me Men Black Deo Colour me Men Green Deo Colour Me Men Silver Deo Rasasi Men Numero Due Deo Rasasi Men Numero Uno Deo nan Lakme Insta-Liner Colour Me Men Silver Deo Colour Me Men White Deo Colour Me Women Purple Deo nan Rasasi Men Numero Uno Deo nan Do u speak green Men Brown 3/4th Pant Do u speak green Men Brown T-shirt Colour me Men Green Deo Guess Women Puffy G Black Watch Colour Me Men Silver Deo Guess Women G Hype Silver Watch Do u speak green Men Brown 3/4th Pant Do u speak green Men Brown T-shirt Colour me Men Green Deo Guess Women Puffy G Black Watch Colour Me Men Silver Deo Guess Women G Hype Silver Watch Do u speak green Men Olive T-shirt Casio EDIFICE ED142 EF-503L-1AVDF Ediots T-shirt Do u speak green Boys Olive Trousers Do u speak green Men Olive Sweatshirt nan Rasasi Men Numero Uno Deo Do u speak green Men Blue T-shirt Do u speak Cream Men T-shirt Tantra T-shirt Do u speak green Men T-shirt Do U Speak Green Men Blue T-Shirt nan I Dee Men Sunglasses nan nan nan Rasasi Men Numero Uno Deo Colour me Men Gold Deo Colour me Men Black Deo Colour me Men Green Deo Colour Me Men Silver Deo Rasasi Men Numero Due Deo Rasasi Men Numero Uno Deo nan Colour me Women Red Deo Colour me Men Green Deo Colour Me Women Purple Deo Colour me Men Gold Deo Colour Me Women Pink Deo Colour Me Men Silver Deo nan Colour me Men Gold Deo Colour me Men Black Deo Colour me Men Green Deo Colour Me Men Silver Deo Rasasi Men Numero Due Deo Rasasi Men Numero Uno Deo nan nan Colour Me Men Silver Deo Colour Me Women Purple Deo Colour me Men Gold Deo Colour me Men Black Deo Colour me Men Green Deo Colour Me Men Silver Deo Rasasi Men Numero Due Deo Rasasi Men Numero Uno Deo Red Rose Pink Camisole Red Rose Red Camisole Red Rose Sky Blue Camisole Red Rose Blue Camisole Colour me Women Red Deo nan Colour me Women Red Deo Colour me Men Green Deo Colour Me Women Purple Deo Colour me Men Gold Deo Colour Me Women Pink Deo Colour Me Men Silver Deo Do u speak green Men Olive T-shirt Casio EDIFICE ED142 EF-503L-1AVDF Ediots T-shirt Do u speak green Boys Olive Trousers Do u speak green Men Olive Sweatshirt nan Do u speak green Men Olive T-shirt Casio EDIFICE ED142 EF-503L-1AVDF Ediots T-shirt Do u speak green Boys Olive Trousers Do u speak green Men Olive Sweatshirt nan Colour me Women Red Deo Colour me Men Green Deo Colour Me Women Purple Deo Colour me Men Gold Deo Colour Me Women Pink Deo Colour Me Men Silver Deo nan I Dee Men Sunglasses nan Do u speak green Men Brown 3/4th Pant Do u speak green Men Brown T-shirt Colour me Men Green Deo Guess Women Puffy G Black Watch Colour Me Men Silver Deo Guess Women G Hype Silver Watch nan nan nan Do u speak green Men Olive T-shirt Casio EDIFICE ED142 EF-503L-1AVDF Ediots T-shirt Do u speak green Boys Olive Trousers Do u speak green Men Olive Sweatshirt Red Rose Pink Camisole Red Rose Red Camisole Red Rose Sky Blue Camisole Red Rose Blue Camisole Colour me Women Red Deo nan Rasasi Men Numero Uno Deo nan nan Colour me Men Gold Deo Colour me Men Black Deo Colour me Men Green Deo Colour Me Men Silver Deo Rasasi Men Numero Due Deo Rasasi Men Numero Uno Deo nan Lakme Insta-Liner Colour Me Men Silver Deo Colour Me Men White Deo Colour Me Women Purple Deo nan Rasasi Men Numero Uno Deo Do u speak green Men Blue T-shirt Do u speak Cream Men T-shirt Tantra T-shirt Do u speak green Men T-shirt Do U Speak Green Men Blue T-Shirt nan nan Lakme Insta-Liner Colour Me Men Silver Deo Colour Me Men White Deo Colour Me Women Purple Deo Do u speak green Men Olive T-shirt Casio EDIFICE ED142 EF-503L-1AVDF Ediots T-shirt Do u speak green Boys Olive Trousers Do u speak green Men Olive Sweatshirt Colour me Men Gold Deo Colour me Men Black Deo Colour me Men Green Deo Colour Me Men Silver Deo Rasasi Men Numero Due Deo Rasasi Men Numero Uno Deo nan Colour me Women Red Deo Colour me Men Green Deo Colour Me Women Purple Deo Colour me Men Gold Deo Colour Me Women Pink Deo Colour Me Men Silver Deo nan Amante Bra BCSO01 nan nan nan Colour me Men Gold Deo Colour me Men Black Deo Colour me Men Green Deo Colour Me Men Silver Deo Rasasi Men Numero Due Deo Rasasi Men Numero Uno Deo nan nan nan Amante Bra BCSO01 nan nan Lakme Insta-Liner Colour Me Men Silver Deo Colour Me Men White Deo Colour Me Women Purple Deo Do u speak green Men Blue T-shirt Do u speak Cream Men T-shirt Tantra T-shirt Do u speak green Men T-shirt Do U Speak Green Men Blue T-Shirt nan Red Rose Pink Camisole Red Rose Red Camisole Red Rose Sky Blue Camisole Red Rose Blue Camisole Colour me Women Red Deo Do u speak green Men Olive T-shirt Casio EDIFICE ED142 EF-503L-1AVDF Ediots T-shirt Do u speak green Boys Olive Trousers Do u speak green Men Olive Sweatshirt Colour Me Men Silver Deo Colour me Men Gold Deo Nike Men's Quoted Black T-shirt Colour me Men Black Deo Vans Men Rowley Rasasi Men Numero Due Deo\\nAnswer:\\x1b[32m Based on the products you've listed, here are some styling advice:\\n\\n**Casual Outfit**\\n\\n* Pair Do U Speak Green Boys Olive Trousers with a matching olive green t-shirt (Do u speak green Men Olive T-shirt) and sneakers for a relaxed look.\\n* Add a pop of color with Red Rose Pink Camisole or any other camisole from the collection.\\n\\n**Smart Casual**\\n\\n* Combine Do U Speak Green Men Blue T-shirt with Vans Men Rowley shoes and dark wash jeans for a stylish, everyday outfit.\\n* Accessorize with Colour Me Men Silver Deo to add some shine to your look.\\n\\n**Formal Occasion**\\n\\n* Go classic with Nike Men's Quoted Black T-shirt paired with formal trousers (Do u speak green Boys Olive Trousers) and dress shoes.\\n* Add a touch of sophistication with Rasasi Men Numero Due Deo or Colour Me Women Purple Deo for a stylish fragrance.\\n\\n**Layering**\\n\\n* Layer Do U Speak Green Men Olive Sweatshirt over a plain white t-shirt (Tantra T-shirt) for a cozy, casual look.\\n* Use Lakme Insta-Liner to add some definition to your brows and enhance your features.\\n\\nRemember, these are just suggestions based on the products you've listed. Feel free to experiment with different combinations that reflect your personal style!\\x1b[0m\\n\\n\\n\""
      ]
     },
     "execution_count": 171,
     "metadata": {},
     "output_type": "execute_result"
    }
   ],
   "source": [
    "ollama_model.inspect_history(n=3)"
   ]
  },
  {
   "cell_type": "code",
   "execution_count": null,
   "metadata": {},
   "outputs": [],
   "source": []
  }
 ],
 "metadata": {
  "kernelspec": {
   "display_name": "base",
   "language": "python",
   "name": "python3"
  },
  "language_info": {
   "codemirror_mode": {
    "name": "ipython",
    "version": 3
   },
   "file_extension": ".py",
   "mimetype": "text/x-python",
   "name": "python",
   "nbconvert_exporter": "python",
   "pygments_lexer": "ipython3",
   "version": "3.10.11"
  }
 },
 "nbformat": 4,
 "nbformat_minor": 2
}
