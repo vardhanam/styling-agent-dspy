{
 "cells": [
  {
   "cell_type": "code",
   "execution_count": null,
   "metadata": {},
   "outputs": [],
   "source": [
    "from qdrant_client import QdrantClient\n",
    "\n",
    "\n",
    "# Initialize the client\n",
    "client = QdrantClient(\":memory:\")\n"
   ]
  },
  {
   "cell_type": "code",
   "execution_count": null,
   "metadata": {},
   "outputs": [],
   "source": [
    "import pandas as pd\n",
    "\n",
    "# Read the CSV file\n",
    "df = pd.read_csv('styles.csv', on_bad_lines='skip')\n",
    "\n",
    "# Extract the 'productDisplayName' column into a list\n",
    "product_display_names = df['productDisplayName'].astype(str).tolist()\n"
   ]
  },
  {
   "cell_type": "code",
   "execution_count": null,
   "metadata": {},
   "outputs": [],
   "source": [
    "# Function to split list into batches of specified size\n",
    "def batch_list(lst, batch_size):\n",
    "    for i in range(0, len(lst), batch_size):\n",
    "        yield lst[i:i + batch_size]\n",
    "\n",
    "# Define batch size\n",
    "batch_size = 1000\n",
    "\n",
    "# Process the batches\n",
    "for idx, batch in enumerate(batch_list(product_display_names, batch_size)):\n",
    "    start_id = idx * batch_size + 1\n",
    "    end_id = start_id + len(batch) - 1\n",
    "    doc_ids = list(range(start_id, end_id + 1))\n",
    "    client.add(\n",
    "        collection_name=\"product_list\",\n",
    "        documents=batch,\n",
    "        ids=doc_ids,\n",
    "    )"
   ]
  },
  {
   "cell_type": "code",
   "execution_count": null,
   "metadata": {},
   "outputs": [],
   "source": [
    "from dspy.retrieve.qdrant_rm import QdrantRM\n",
    "import dspy\n",
    "\n",
    "\n",
    "qdrant_retriever_model = QdrantRM(\"product_list\", client, k=3)\n",
    "\n",
    "\n",
    "ollama_model = dspy.OllamaLocal(model=\"llama3\",model_type='text',\n",
    "                                max_tokens=350,\n",
    "                                temperature=0.1,\n",
    "                                top_p=0.8, frequency_penalty=1.17, top_k=40)\n",
    "\n",
    "\n",
    "dspy.settings.configure(lm= ollama_model, rm=qdrant_retriever_model)"
   ]
  },
  {
   "cell_type": "code",
   "execution_count": 54,
   "metadata": {},
   "outputs": [],
   "source": [
    "class Items(dspy.Signature):\n",
    "    \"\"\"\n",
    "    List of extracted clothing items and accessories\n",
    "    \"\"\"\n",
    "    prompt = dspy.InputField()\n",
    "    terms = dspy.OutputField(format=list)\n",
    "\n",
    "\n",
    "class FindItems(dspy.Module):\n",
    "    \"\"\"\n",
    "    Extract clothing items and accessories from a user query\n",
    "    \"\"\"\n",
    "    def __init__(self):\n",
    "        super().__init__()\n",
    "        self.item_extractor = dspy.Predict(Items)\n",
    "\n",
    "    def forward(self, question):\n",
    "        instruction = (\n",
    "            \"Return a list of clothing items and accesores to be worn by a user, given their preferences\"\n",
    "            f\"Preferences: {question}\"\n",
    "        )\n",
    "        prediction = self.item_extractor(\n",
    "            prompt=instruction\n",
    "        )\n",
    "        return prediction.terms"
   ]
  },
  {
   "cell_type": "code",
   "execution_count": 78,
   "metadata": {},
   "outputs": [],
   "source": [
    "module = FindItems()"
   ]
  },
  {
   "cell_type": "code",
   "execution_count": 79,
   "metadata": {},
   "outputs": [],
   "source": [
    "response = module(\"Tripy party with clowns and lot if music in New York\")"
   ]
  },
  {
   "cell_type": "code",
   "execution_count": 80,
   "metadata": {},
   "outputs": [
    {
     "name": "stdout",
     "output_type": "stream",
     "text": [
      "Here is the extracted list of clothing items and accessories:\n",
      "\n",
      "**List of Clothing Items and Accessories**\n",
      "\n",
      "* **Outfit:** A sparkly jumpsuit for dancing the night away!\n",
      "\t+ Top: Sequined tank top to match the party's festive vibe\n",
      "\t+ Bottom: Jumpsuit with glittery accents, perfect for twirling on the dance floor\n",
      "\t+ Shoes: High-heeled ankle boots with metallic buckles and a touch of sparkle\n",
      "* **Accessories:** Add some whimsical flair!\n",
      "\t+ Headpiece: A colorful clown hat to make a statement (or two!)\n",
      "\t+ Earrings: Dangling tassels in matching colors to the jumpsuit's glittery accents\n",
      "\t+ Necklace: A chunky, beaded choker with a playful charm or two\n",
      "\n",
      "**Additional Suggestions:** Consider adding some fun and quirky touches like:\n",
      "* A pair of oversized sunglasses for added glamour\n",
      "* A statement piece of jewelry that incorporates clowns (e.g., a clown-shaped brooch)\n",
      "* Some bold, colorful nail polish to match the party's lively atmosphere!\n"
     ]
    }
   ],
   "source": [
    "print(response)"
   ]
  },
  {
   "cell_type": "code",
   "execution_count": 46,
   "metadata": {},
   "outputs": [],
   "source": [
    "trainset_dict= {\n",
    "    \"desert_wear\": \"* Lightweight, breathable long-sleeve shirt\\n* Wide-brimmed hat\\n* Sunglasses with UV protection\\n* Cargo pants\\n* Lightweight scarf or shemagh\\n* Hiking boots with good ventilation\\n* Moisture-wicking socks\\n* Sunscreen\\n* Hydration pack or water bottle\\n* Lightweight jacket for cooler evenings\",\n",
    "    \"caribbean_party\": \"* Flowy sundress with tropical print\\n* Beach hat with colorful feathers\\n* Statement necklace with seashells and beads\\n* Flip flops in bright colors\\n* Sunglasses with brightly colored frames\\n* Lightweight, short-sleeve shirt with floral patterns\\n* Comfortable shorts\\n* Colorful bangles or bracelets\\n* Straw tote bag\\n* Lightweight scarf or wrap\",\n",
    "    \"award_function\": \"* Elegant evening gown or tuxedo\\n* Statement jewelry (earrings, necklace, bracelet)\\n* Dress shoes or heels\\n* Clutch or small evening bag\\n* Cufflinks and tie (for tuxedo)\\n* Evening makeup and hairstyle\\n* Silk scarf or shawl\\n* Formal watch\\n* Perfume or cologne\\n* Pocket square (for tuxedo)\"\n",
    "}"
   ]
  },
  {
   "cell_type": "code",
   "execution_count": 83,
   "metadata": {},
   "outputs": [],
   "source": [
    "trainset = [dspy.Example(question=key, answer=value) for key, value in trainset_dict.items()]"
   ]
  },
  {
   "cell_type": "code",
   "execution_count": 84,
   "metadata": {},
   "outputs": [],
   "source": [
    "from dspy import teleprompt\n",
    "teleprompter = teleprompt.LabeledFewShot()\n",
    "optimized_Find_Items = teleprompter.compile(student=FindItems(), trainset=trainset)"
   ]
  },
  {
   "cell_type": "code",
   "execution_count": 88,
   "metadata": {},
   "outputs": [],
   "source": [
    "module = optimized_Find_Items(\"Belly Dancers with fire of Arabia\")"
   ]
  },
  {
   "cell_type": "code",
   "execution_count": 89,
   "metadata": {},
   "outputs": [
    {
     "data": {
      "text/plain": [
       "\"Here is the extracted list:\\n\\n**Clothing Items and Accessories**\\n\\n* Harem pants (traditional belly dance attire)\\n* Midriff-baring tops (to show off moves while dancing)\\n* Sparkly or beaded bras (for added flair during performances)\\n* Flowing, loose-fitting shirts with intricate embroidery\\n* High-waisted, flared pants for dramatic movements\\n* Belly chain belts with dangling charms and pendants\\n* Statement headpieces featuring tassels, fringe, or sequins\\n\\nThese items are inspired by the traditional attire of belly dancers from Arabia and other Middle Eastern cultures. The sparkly accessories add a touch of glamour to enhance the dancer's performance!\""
      ]
     },
     "execution_count": 89,
     "metadata": {},
     "output_type": "execute_result"
    }
   ],
   "source": [
    "module"
   ]
  },
  {
   "cell_type": "code",
   "execution_count": 90,
   "metadata": {},
   "outputs": [
    {
     "data": {
      "text/plain": [
       "['Harem pants (traditional belly dance attire)',\n",
       " 'Midriff-baring tops (to show off moves while dancing)',\n",
       " 'Sparkly or beaded bras (for added flair during performances)',\n",
       " 'Flowing, loose-fitting shirts with intricate embroidery',\n",
       " 'High-waisted, flared pants for dramatic movements',\n",
       " 'Belly chain belts with dangling charms and pendants',\n",
       " 'Statement headpieces featuring tassels, fringe, or sequins']"
      ]
     },
     "execution_count": 90,
     "metadata": {},
     "output_type": "execute_result"
    }
   ],
   "source": [
    "parse_clothing_items(module)"
   ]
  },
  {
   "cell_type": "code",
   "execution_count": 72,
   "metadata": {},
   "outputs": [],
   "source": [
    "y = dspy.Retrieve()"
   ]
  },
  {
   "cell_type": "code",
   "execution_count": 74,
   "metadata": {},
   "outputs": [
    {
     "data": {
      "text/plain": [
       "list"
      ]
     },
     "execution_count": 74,
     "metadata": {},
     "output_type": "execute_result"
    }
   ],
   "source": [
    "type(y(\"shoes\").passages)"
   ]
  },
  {
   "cell_type": "code",
   "execution_count": 76,
   "metadata": {},
   "outputs": [
    {
     "name": "stdout",
     "output_type": "stream",
     "text": [
      "['Waterproof jacket ($)', 'Umbrella (t)', 'Rain boots (e)', 'Water-repellent pants (r)', 'Insulated gloves (m)']\n"
     ]
    }
   ],
   "source": [
    "def parse_clothing_items(text):\n",
    "    # Split the text into lines\n",
    "    lines = text.split('\\n')\n",
    "\n",
    "    # Initialize an empty list to hold the items\n",
    "    items = []\n",
    "\n",
    "    # Loop through each line\n",
    "    for line in lines:\n",
    "        # Check if the line starts with '*'\n",
    "        if line.strip().startswith('* '):\n",
    "            # Remove the '*' and any leading/trailing whitespace, then add to the list\n",
    "            item = line.strip()[2:].strip()\n",
    "            items.append(item)\n",
    "\n",
    "    return items\n"
   ]
  },
  {
   "cell_type": "code",
   "execution_count": null,
   "metadata": {},
   "outputs": [],
   "source": []
  }
 ],
 "metadata": {
  "kernelspec": {
   "display_name": "base",
   "language": "python",
   "name": "python3"
  },
  "language_info": {
   "codemirror_mode": {
    "name": "ipython",
    "version": 3
   },
   "file_extension": ".py",
   "mimetype": "text/x-python",
   "name": "python",
   "nbconvert_exporter": "python",
   "pygments_lexer": "ipython3",
   "version": "3.10.13"
  }
 },
 "nbformat": 4,
 "nbformat_minor": 2
}
