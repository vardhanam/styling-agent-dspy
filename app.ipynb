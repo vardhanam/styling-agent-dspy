{
 "cells": [
  {
   "cell_type": "code",
   "execution_count": 1,
   "metadata": {},
   "outputs": [],
   "source": [
    "from qdrant_client import QdrantClient\n",
    "\n",
    "\n",
    "# Initialize the client\n",
    "client = QdrantClient(\":memory:\")\n"
   ]
  },
  {
   "cell_type": "code",
   "execution_count": 2,
   "metadata": {},
   "outputs": [],
   "source": [
    "import pandas as pd\n",
    "\n",
    "# Read the CSV file\n",
    "df = pd.read_csv('styles.csv', on_bad_lines='skip')\n",
    "\n",
    "# Extract the 'productDisplayName' column into a list\n",
    "product_display_names = df['productDisplayName'].astype(str).tolist()\n"
   ]
  },
  {
   "cell_type": "code",
   "execution_count": 3,
   "metadata": {},
   "outputs": [],
   "source": [
    "# Function to split list into batches of specified size\n",
    "def batch_list(lst, batch_size):\n",
    "    for i in range(0, len(lst), batch_size):\n",
    "        yield lst[i:i + batch_size]\n",
    "\n",
    "# Define batch size\n",
    "batch_size = 1000\n",
    "\n",
    "# Process the batches\n",
    "for idx, batch in enumerate(batch_list(product_display_names, batch_size)):\n",
    "    start_id = idx * batch_size + 1\n",
    "    end_id = start_id + len(batch) - 1\n",
    "    doc_ids = list(range(start_id, end_id + 1))\n",
    "    client.add(\n",
    "        collection_name=\"product_list\",\n",
    "        documents=batch,\n",
    "        ids=doc_ids,\n",
    "    )"
   ]
  },
  {
   "cell_type": "code",
   "execution_count": 4,
   "metadata": {},
   "outputs": [],
   "source": [
    "from dspy.retrieve.qdrant_rm import QdrantRM\n",
    "import dspy\n",
    "\n",
    "\n",
    "qdrant_retriever_model = QdrantRM(\"product_list\", client, k=3)\n",
    "\n",
    "\n",
    "ollama_model = dspy.OllamaLocal(model=\"llama3\",model_type='text',\n",
    "                                max_tokens=350,\n",
    "                                temperature=0.1,\n",
    "                                top_p=0.8, frequency_penalty=1.17, top_k=40)\n",
    "\n",
    "\n",
    "dspy.settings.configure(lm= ollama_model, rm=qdrant_retriever_model)"
   ]
  },
  {
   "cell_type": "code",
   "execution_count": 5,
   "metadata": {},
   "outputs": [],
   "source": [
    "class Items(dspy.Signature):\n",
    "    \"\"\"\n",
    "    List of extracted clothing items and accessories\n",
    "    \"\"\"\n",
    "    prompt = dspy.InputField()\n",
    "    terms = dspy.OutputField(format=list)\n",
    "\n",
    "\n",
    "class FindItems(dspy.Module):\n",
    "    \"\"\"\n",
    "    Extract clothing items and accessories from a user query\n",
    "    \"\"\"\n",
    "    def __init__(self):\n",
    "        super().__init__()\n",
    "        self.item_extractor = dspy.Predict(Items)\n",
    "\n",
    "    def forward(self, question):\n",
    "        instruction = (\n",
    "            \"Return a list of clothing items and accesores to be worn by a user, given their preferences\"\n",
    "            f\"Preferences: {question}\"\n",
    "        )\n",
    "        prediction = self.item_extractor(\n",
    "            prompt=instruction\n",
    "        )\n",
    "        return prediction.terms"
   ]
  },
  {
   "cell_type": "code",
   "execution_count": 6,
   "metadata": {},
   "outputs": [],
   "source": [
    "module = FindItems()"
   ]
  },
  {
   "cell_type": "code",
   "execution_count": 7,
   "metadata": {},
   "outputs": [],
   "source": [
    "response = module(\"Tripy party with clowns and lot if music in New York\")"
   ]
  },
  {
   "cell_type": "code",
   "execution_count": 8,
   "metadata": {},
   "outputs": [
    {
     "name": "stdout",
     "output_type": "stream",
     "text": [
      "Here is the extracted list of clothing items and accessories:\n",
      "\n",
      "**List**\n",
      "\n",
      "* Sequined top (for a flashy outfit)\n",
      "* Glittery pants (to match the sparkly atmosphere)\n",
      "* Clown-inspired shoes (with bright colors and oversized bows)\n",
      "* Statement necklace with flashing lights or glittering beads\n",
      "* Oversized sunglasses with colorful frames\n",
      "* A funky hat shaped like a clown's nose or an animal ear\n",
      "\n",
      "These items are inspired by the user's preference for a trippy party with clowns and lots of music in New York, aiming to create a playful, whimsical outfit that matches the energetic vibe.\n"
     ]
    }
   ],
   "source": [
    "print(response)"
   ]
  },
  {
   "cell_type": "code",
   "execution_count": 9,
   "metadata": {},
   "outputs": [],
   "source": [
    "trainset_dict= {\n",
    "    \"desert_wear\": \"* Lightweight, breathable long-sleeve shirt\\n* Wide-brimmed hat\\n* Sunglasses with UV protection\\n* Cargo pants\\n* Lightweight scarf or shemagh\\n* Hiking boots with good ventilation\\n* Moisture-wicking socks\\n* Sunscreen\\n* Hydration pack or water bottle\\n* Lightweight jacket for cooler evenings\",\n",
    "    \"caribbean_party\": \"* Flowy sundress with tropical print\\n* Beach hat with colorful feathers\\n* Statement necklace with seashells and beads\\n* Flip flops in bright colors\\n* Sunglasses with brightly colored frames\\n* Lightweight, short-sleeve shirt with floral patterns\\n* Comfortable shorts\\n* Colorful bangles or bracelets\\n* Straw tote bag\\n* Lightweight scarf or wrap\",\n",
    "    \"award_function\": \"* Elegant evening gown or tuxedo\\n* Statement jewelry (earrings, necklace, bracelet)\\n* Dress shoes or heels\\n* Clutch or small evening bag\\n* Cufflinks and tie (for tuxedo)\\n* Evening makeup and hairstyle\\n* Silk scarf or shawl\\n* Formal watch\\n* Perfume or cologne\\n* Pocket square (for tuxedo)\"\n",
    "}"
   ]
  },
  {
   "cell_type": "code",
   "execution_count": 10,
   "metadata": {},
   "outputs": [],
   "source": [
    "trainset = [dspy.Example(question=key, answer=value) for key, value in trainset_dict.items()]"
   ]
  },
  {
   "cell_type": "code",
   "execution_count": 11,
   "metadata": {},
   "outputs": [],
   "source": [
    "from dspy import teleprompt\n",
    "teleprompter = teleprompt.LabeledFewShot()\n",
    "optimized_Find_Items = teleprompter.compile(student=FindItems(), trainset=trainset)"
   ]
  },
  {
   "cell_type": "code",
   "execution_count": 12,
   "metadata": {},
   "outputs": [],
   "source": [
    "module = optimized_Find_Items(\"Belly Dancers with fire of Arabia\")"
   ]
  },
  {
   "cell_type": "code",
   "execution_count": 13,
   "metadata": {},
   "outputs": [
    {
     "data": {
      "text/plain": [
       "'Here is the extracted list of clothing items and accessories:\\n\\n**Belly Dancers with Fire of Arabia**\\n\\n* Harem pants (flowing, loose-fitting pants)\\n* Midriff-baring tops (revealing the belly button)\\n* Belly chain or belt (adorned with coins or other decorative elements)\\n* Headscarf or hijab (covering the hair and neck)\\n* Arm warmers or gauntlets (protective sleeves for fire dancing)\\n* Fire-resistant gloves\\n* Sparkly, beaded jewelry (necklaces, earrings, etc.)\\n* High-heeled ankle boots or sandals with intricate designs\\n* Flowing cape or shawl to add drama while performing\\n\\nThese items are inspired by traditional Middle Eastern and North African clothing styles, adapted for the unique demands of belly dancing with fire.'"
      ]
     },
     "execution_count": 13,
     "metadata": {},
     "output_type": "execute_result"
    }
   ],
   "source": [
    "module"
   ]
  },
  {
   "cell_type": "code",
   "execution_count": 15,
   "metadata": {},
   "outputs": [],
   "source": [
    "def parse_clothing_items(text):\n",
    "    # Split the text into lines\n",
    "    lines = text.split('\\n')\n",
    "\n",
    "    # Initialize an empty list to hold the items\n",
    "    items = []\n",
    "\n",
    "    # Loop through each line\n",
    "    for line in lines:\n",
    "        # Check if the line starts with '*'\n",
    "        if line.strip().startswith('* '):\n",
    "            # Remove the '*' and any leading/trailing whitespace, then add to the list\n",
    "            item = line.strip()[2:].strip()\n",
    "            items.append(item)\n",
    "\n",
    "    return items\n"
   ]
  },
  {
   "cell_type": "code",
   "execution_count": null,
   "metadata": {},
   "outputs": [],
   "source": [
    "class Style(dspy.Signature):\n",
    "    \"\"\"\n",
    "    Generate styling advise, given a list of products\n",
    "    \"\"\"\n",
    "    product_list = dspy.InputField(format=list)\n",
    "    answer = dspy.OutputField()"
   ]
  },
  {
   "cell_type": "code",
   "execution_count": null,
   "metadata": {},
   "outputs": [],
   "source": [
    "class Styling_Advise(dspy.Module):\n",
    "    def __init__(self):\n",
    "        super().__init__()\n",
    "        self.generate_response = dspy.ChainOfThought(Style, n=3)\n",
    "        self.retrieve = dspy.Retrieve(k=6)\n",
    "\n",
    "    def forward(self, question):\n",
    "        item_list= parse_clothing_items(optimized_Find_Items(question))\n",
    "        product_list = []\n",
    "        for item in item_list:\n",
    "            product_list += self.retrieve(item).passages\n",
    "\n",
    "        response = self.generate_response(product_list= product_list)\n",
    "        return response.answer"
   ]
  },
  {
   "cell_type": "code",
   "execution_count": null,
   "metadata": {},
   "outputs": [],
   "source": []
  }
 ],
 "metadata": {
  "kernelspec": {
   "display_name": "base",
   "language": "python",
   "name": "python3"
  },
  "language_info": {
   "codemirror_mode": {
    "name": "ipython",
    "version": 3
   },
   "file_extension": ".py",
   "mimetype": "text/x-python",
   "name": "python",
   "nbconvert_exporter": "python",
   "pygments_lexer": "ipython3",
   "version": "3.10.13"
  }
 },
 "nbformat": 4,
 "nbformat_minor": 2
}
